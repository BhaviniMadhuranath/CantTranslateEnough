{
 "cells": [
  {
   "cell_type": "code",
   "execution_count": 1,
   "metadata": {},
   "outputs": [],
   "source": [
    "import pandas"
   ]
  },
  {
   "cell_type": "code",
   "execution_count": 10,
   "metadata": {},
   "outputs": [
    {
     "data": {
      "text/html": [
       "<div>\n",
       "<style scoped>\n",
       "    .dataframe tbody tr th:only-of-type {\n",
       "        vertical-align: middle;\n",
       "    }\n",
       "\n",
       "    .dataframe tbody tr th {\n",
       "        vertical-align: top;\n",
       "    }\n",
       "\n",
       "    .dataframe thead th {\n",
       "        text-align: right;\n",
       "    }\n",
       "</style>\n",
       "<table border=\"1\" class=\"dataframe\">\n",
       "  <thead>\n",
       "    <tr style=\"text-align: right;\">\n",
       "      <th></th>\n",
       "      <th></th>\n",
       "      <th>eng deu credits</th>\n",
       "    </tr>\n",
       "  </thead>\n",
       "  <tbody>\n",
       "    <tr>\n",
       "      <th>Go.</th>\n",
       "      <th>Geh.</th>\n",
       "      <td>CC-BY 2.0 (France) Attribution: tatoeba.org #2...</td>\n",
       "    </tr>\n",
       "    <tr>\n",
       "      <th rowspan=\"2\" valign=\"top\">Hi.</th>\n",
       "      <th>Hallo!</th>\n",
       "      <td>CC-BY 2.0 (France) Attribution: tatoeba.org #5...</td>\n",
       "    </tr>\n",
       "    <tr>\n",
       "      <th>Grüß Gott!</th>\n",
       "      <td>CC-BY 2.0 (France) Attribution: tatoeba.org #5...</td>\n",
       "    </tr>\n",
       "    <tr>\n",
       "      <th>Run!</th>\n",
       "      <th>Lauf!</th>\n",
       "      <td>CC-BY 2.0 (France) Attribution: tatoeba.org #9...</td>\n",
       "    </tr>\n",
       "    <tr>\n",
       "      <th>Run.</th>\n",
       "      <th>Lauf!</th>\n",
       "      <td>CC-BY 2.0 (France) Attribution: tatoeba.org #4...</td>\n",
       "    </tr>\n",
       "    <tr>\n",
       "      <th>...</th>\n",
       "      <th>...</th>\n",
       "      <td>...</td>\n",
       "    </tr>\n",
       "    <tr>\n",
       "      <th rowspan=\"2\" valign=\"top\">If someone who doesn't know your background says that you sound like a native speaker, it means they probably noticed something about your speaking that made them realize you weren't a native speaker. In other words, you don't really sound like a native speaker.</th>\n",
       "      <th>Wenn jemand Fremdes dir sagt, dass du dich wie ein Muttersprachler anhörst, bedeutet das wahrscheinlich: Er hat etwas an deinem Sprechen bemerkt, dass dich als Nicht-Muttersprachler verraten hat. Mit anderen Worten: Du hörst dich nicht wirklich wie ein Muttersprachler an.</th>\n",
       "      <td>CC-BY 2.0 (France) Attribution: tatoeba.org #9...</td>\n",
       "    </tr>\n",
       "    <tr>\n",
       "      <th>Wenn jemand, der nicht weiß, woher man kommt, sagt, man erwecke doch den Eindruck, Muttersprachler zu sein, so hat man Grund zu der Annahme, dass ihm an der Sprache irgendetwas aufgefallen ist, woran er erkannt hat, dass man eben keiner ist – dass man diesen Eindruck mit anderen Worten eigentlich nicht erweckt.</th>\n",
       "      <td>CC-BY 2.0 (France) Attribution: tatoeba.org #9...</td>\n",
       "    </tr>\n",
       "    <tr>\n",
       "      <th>It may be impossible to get a completely error-free corpus due to the nature of this kind of collaborative effort. However, if we encourage members to contribute sentences in their own languages rather than experiment in languages they are learning, we might be able to minimize errors.</th>\n",
       "      <th>Es ist wohl unmöglich, einen vollkommen fehlerfreien Korpus zu erreichen — das liegt in der Natur eines solchen Gemeinschaftsprojekts. Doch wenn wir unsere Mitglieder dazu bringen können, nicht mit Sprachen herumzuexperimentieren, die sie gerade lernen, sondern Sätze in ihrer eigenen Muttersprache beizutragen, dann gelingt es uns vielleicht, die Zahl der Fehler klein zu halten.</th>\n",
       "      <td>CC-BY 2.0 (France) Attribution: tatoeba.org #2...</td>\n",
       "    </tr>\n",
       "    <tr>\n",
       "      <th>I know that adding sentences only in your native or strongest language is probably not as much fun as practicing writing foreign languages, but please don't add sentences to the Tatoeba Corpus if you are not absolutely sure they are correct. If you want to practice languages that you are studying, please do so by using a website designed for that purpose such as www.lang-8.com.</th>\n",
       "      <th>Ich weiß wohl, dass das ausschließliche Beitragen von Sätzen in der Muttersprache – oder der am besten beherrschten Sprache – nicht ganz so viel Spaß macht, wie sich im Schreiben von Fremdsprachen zu üben; steuere beim Tatoeba-Korpus aber bitte trotzdem keine Sätze bei, über deren Korrektheit du dir nicht völlig im Klaren bist. Wenn du Sprachen, die du gerade lernst, üben möchtest, verwende dazu bitte Netzangebote, die eigens hierfür eingerichtet wurden, wie zum Beispiel www.lang-8.com.</th>\n",
       "      <td>CC-BY 2.0 (France) Attribution: tatoeba.org #3...</td>\n",
       "    </tr>\n",
       "    <tr>\n",
       "      <th>Doubtless there exists in this world precisely the right woman for any given man to marry and vice versa; but when you consider that a human being has the opportunity of being acquainted with only a few hundred people, and out of the few hundred that there are but a dozen or less whom he knows intimately, and out of the dozen, one or two friends at most, it will easily be seen, when we remember the number of millions who inhabit this world, that probably, since the earth was created, the right man has never yet met the right woman.</th>\n",
       "      <th>Ohne Zweifel findet sich auf dieser Welt zu jedem Mann genau die richtige Ehefrau und umgekehrt; wenn man jedoch in Betracht zieht, dass ein Mensch nur Gelegenheit hat, mit ein paar hundert anderen bekannt zu sein, von denen ihm nur ein Dutzend oder weniger nahesteht, darunter höchstens ein oder zwei Freunde, dann erahnt man eingedenk der Millionen Einwohner dieser Welt leicht, dass seit Erschaffung ebenderselben wohl noch nie der richtige Mann der richtigen Frau begegnet ist.</th>\n",
       "      <td>CC-BY 2.0 (France) Attribution: tatoeba.org #7...</td>\n",
       "    </tr>\n",
       "  </tbody>\n",
       "</table>\n",
       "<p>260434 rows × 1 columns</p>\n",
       "</div>"
      ],
      "text/plain": [
       "                                                                                                                                         eng deu credits\n",
       "Go.                                                Geh.                                                CC-BY 2.0 (France) Attribution: tatoeba.org #2...\n",
       "Hi.                                                Hallo!                                              CC-BY 2.0 (France) Attribution: tatoeba.org #5...\n",
       "                                                   Grüß Gott!                                          CC-BY 2.0 (France) Attribution: tatoeba.org #5...\n",
       "Run!                                               Lauf!                                               CC-BY 2.0 (France) Attribution: tatoeba.org #9...\n",
       "Run.                                               Lauf!                                               CC-BY 2.0 (France) Attribution: tatoeba.org #4...\n",
       "...                                                                                                                                                  ...\n",
       "If someone who doesn't know your background say... Wenn jemand Fremdes dir sagt, dass du dich wie ...  CC-BY 2.0 (France) Attribution: tatoeba.org #9...\n",
       "                                                   Wenn jemand, der nicht weiß, woher man kommt, s...  CC-BY 2.0 (France) Attribution: tatoeba.org #9...\n",
       "It may be impossible to get a completely error-... Es ist wohl unmöglich, einen vollkommen fehlerf...  CC-BY 2.0 (France) Attribution: tatoeba.org #2...\n",
       "I know that adding sentences only in your nativ... Ich weiß wohl, dass das ausschließliche Beitrag...  CC-BY 2.0 (France) Attribution: tatoeba.org #3...\n",
       "Doubtless there exists in this world precisely ... Ohne Zweifel findet sich auf dieser Welt zu jed...  CC-BY 2.0 (France) Attribution: tatoeba.org #7...\n",
       "\n",
       "[260434 rows x 1 columns]"
      ]
     },
     "execution_count": 10,
     "metadata": {},
     "output_type": "execute_result"
    }
   ],
   "source": [
    "df = pandas.read_csv(\"./deu.txt\",sep='\\t')\n",
    "df"
   ]
  },
  {
   "cell_type": "code",
   "execution_count": 11,
   "metadata": {},
   "outputs": [
    {
     "name": "stdout",
     "output_type": "stream",
     "text": [
      "                                                                                                                                         eng deu credits\n",
      "Go.                                                Geh.                                                CC-BY 2.0 (France) Attribution: tatoeba.org #2...\n",
      "Hi.                                                Hallo!                                              CC-BY 2.0 (France) Attribution: tatoeba.org #5...\n",
      "                                                   Grüß Gott!                                          CC-BY 2.0 (France) Attribution: tatoeba.org #5...\n",
      "Run!                                               Lauf!                                               CC-BY 2.0 (France) Attribution: tatoeba.org #9...\n",
      "Run.                                               Lauf!                                               CC-BY 2.0 (France) Attribution: tatoeba.org #4...\n",
      "...                                                                                                                                                  ...\n",
      "If someone who doesn't know your background say... Wenn jemand Fremdes dir sagt, dass du dich wie ...  CC-BY 2.0 (France) Attribution: tatoeba.org #9...\n",
      "                                                   Wenn jemand, der nicht weiß, woher man kommt, s...  CC-BY 2.0 (France) Attribution: tatoeba.org #9...\n",
      "It may be impossible to get a completely error-... Es ist wohl unmöglich, einen vollkommen fehlerf...  CC-BY 2.0 (France) Attribution: tatoeba.org #2...\n",
      "I know that adding sentences only in your nativ... Ich weiß wohl, dass das ausschließliche Beitrag...  CC-BY 2.0 (France) Attribution: tatoeba.org #3...\n",
      "Doubtless there exists in this world precisely ... Ohne Zweifel findet sich auf dieser Welt zu jed...  CC-BY 2.0 (France) Attribution: tatoeba.org #7...\n",
      "\n",
      "[260434 rows x 1 columns]\n"
     ]
    }
   ],
   "source": [
    "df = df.iloc[:,0:1]\n",
    "print(df)\n",
    "df.to_csv('due.csv')"
   ]
  },
  {
   "cell_type": "code",
   "execution_count": 14,
   "metadata": {},
   "outputs": [],
   "source": [
    "df1 = pandas.read_csv(\"./due.csv\")\n",
    "df1 = df1.iloc[:,0:2]\n",
    "df1.to_csv('due.csv')"
   ]
  }
 ],
 "metadata": {
  "kernelspec": {
   "display_name": "Python 3",
   "language": "python",
   "name": "python3"
  },
  "language_info": {
   "codemirror_mode": {
    "name": "ipython",
    "version": 3
   },
   "file_extension": ".py",
   "mimetype": "text/x-python",
   "name": "python",
   "nbconvert_exporter": "python",
   "pygments_lexer": "ipython3",
   "version": "3.10.0"
  },
  "orig_nbformat": 4
 },
 "nbformat": 4,
 "nbformat_minor": 2
}
