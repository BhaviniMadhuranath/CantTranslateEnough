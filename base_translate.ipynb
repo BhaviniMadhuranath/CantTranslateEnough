{
  "cells": [
    {
      "cell_type": "code",
      "execution_count": 4,
      "metadata": {
        "id": "B70oc19OTVnM"
      },
      "outputs": [],
      "source": [
        "import collections\n",
        "import helper\n",
        "import numpy as np\n",
        "import project_tests as tests\n",
        "from keras.preprocessing.text import Tokenizer\n",
        "from keras.utils import pad_sequences\n",
        "from keras.models import Model\n",
        "from keras.layers import GRU, Input, Dense, TimeDistributed, Activation, RepeatVector, Bidirectional\n",
        "from keras.layers import Embedding\n",
        "from keras.optimizers import Adam\n",
        "from keras.losses import sparse_categorical_crossentropy"
      ]
    },
    {
      "cell_type": "code",
      "execution_count": 5,
      "metadata": {
        "colab": {
          "base_uri": "https://localhost:8080/"
        },
        "id": "SmBBxbtTVY6d",
        "outputId": "741d2343-7bac-4017-b024-475fe44c727e"
      },
      "outputs": [
        {
          "name": "stdout",
          "output_type": "stream",
          "text": [
            "Dataset Loaded\n"
          ]
        }
      ],
      "source": [
        "english_sentences = helper.load_data('./small_vocab_en')\n",
        "french_sentences = helper.load_data('./small_vocab_fr')\n",
        "print('Dataset Loaded')"
      ]
    },
    {
      "cell_type": "code",
      "execution_count": 6,
      "metadata": {
        "colab": {
          "base_uri": "https://localhost:8080/"
        },
        "id": "GpBSoeXHVf-s",
        "outputId": "58671067-2f1e-4f2e-9b04-90b405969a1d"
      },
      "outputs": [
        {
          "name": "stdout",
          "output_type": "stream",
          "text": [
            "small_vocab_en Line 1:  new jersey is sometimes quiet during autumn , and it is snowy in april .\n",
            "small_vocab_fr Line 1:  new jersey est parfois calme pendant l' automne , et il est neigeux en avril .\n",
            "small_vocab_en Line 2:  the united states is usually chilly during july , and it is usually freezing in november .\n",
            "small_vocab_fr Line 2:  les états-unis est généralement froid en juillet , et il gèle habituellement en novembre .\n"
          ]
        }
      ],
      "source": [
        "for sample_i in range(2):\n",
        "    print('small_vocab_en Line {}:  {}'.format(sample_i + 1, english_sentences[sample_i]))\n",
        "    print('small_vocab_fr Line {}:  {}'.format(sample_i + 1, french_sentences[sample_i]))"
      ]
    },
    {
      "cell_type": "code",
      "execution_count": 7,
      "metadata": {
        "colab": {
          "base_uri": "https://localhost:8080/"
        },
        "id": "fSQyveUpVmJ_",
        "outputId": "1955b227-d188-4d93-c9d8-07636ab78859"
      },
      "outputs": [
        {
          "name": "stdout",
          "output_type": "stream",
          "text": [
            "1823250 English words.\n",
            "227 unique English words.\n",
            "10 Most common words in the English dataset:\n",
            "\"is\" \",\" \".\" \"in\" \"it\" \"during\" \"the\" \"but\" \"and\" \"sometimes\"\n",
            "\n",
            "1622782 French words.\n",
            "355 unique French words.\n",
            "10 Most common words in the French dataset:\n",
            "\"est\" \".\" \",\" \"en\" \"il\" \"les\" \"mais\" \"et\" \"la\" \"parfois\"\n"
          ]
        }
      ],
      "source": [
        "english_words_counter = collections.Counter([word for sentence in english_sentences for word in sentence.split()])\n",
        "french_words_counter = collections.Counter([word for sentence in french_sentences for word in sentence.split()])\n",
        "print('{} English words.'.format(len([word for sentence in english_sentences for word in sentence.split()])))\n",
        "print('{} unique English words.'.format(len(english_words_counter)))\n",
        "print('10 Most common words in the English dataset:')\n",
        "print('\"' + '\" \"'.join(list(zip(*english_words_counter.most_common(10)))[0]) + '\"')\n",
        "print()\n",
        "print('{} French words.'.format(len([word for sentence in french_sentences for word in sentence.split()])))\n",
        "print('{} unique French words.'.format(len(french_words_counter)))\n",
        "print('10 Most common words in the French dataset:')\n",
        "print('\"' + '\" \"'.join(list(zip(*french_words_counter.most_common(10)))[0]) + '\"')"
      ]
    },
    {
      "cell_type": "code",
      "execution_count": 8,
      "metadata": {
        "colab": {
          "base_uri": "https://localhost:8080/"
        },
        "id": "zRYAz_URVoWt",
        "outputId": "8f5f665b-d055-4ccd-fa0c-5035243d06f6"
      },
      "outputs": [
        {
          "name": "stdout",
          "output_type": "stream",
          "text": [
            "{'the': 1, 'quick': 2, 'a': 3, 'brown': 4, 'fox': 5, 'jumps': 6, 'over': 7, 'lazy': 8, 'dog': 9, 'by': 10, 'jove': 11, 'my': 12, 'study': 13, 'of': 14, 'lexicography': 15, 'won': 16, 'prize': 17, 'this': 18, 'is': 19, 'short': 20, 'sentence': 21}\n",
            "\n",
            "Sequence 1 in x\n",
            "  Input:  The quick brown fox jumps over the lazy dog .\n",
            "  Output: [1, 2, 4, 5, 6, 7, 1, 8, 9]\n",
            "Sequence 2 in x\n",
            "  Input:  By Jove , my quick study of lexicography won a prize .\n",
            "  Output: [10, 11, 12, 2, 13, 14, 15, 16, 3, 17]\n",
            "Sequence 3 in x\n",
            "  Input:  This is a short sentence .\n",
            "  Output: [18, 19, 3, 20, 21]\n"
          ]
        }
      ],
      "source": [
        "def tokenize(x):\n",
        "    x_tk = Tokenizer(char_level = False)\n",
        "    x_tk.fit_on_texts(x)\n",
        "    return x_tk.texts_to_sequences(x), x_tk\n",
        "text_sentences = [\n",
        "    'The quick brown fox jumps over the lazy dog .',\n",
        "    'By Jove , my quick study of lexicography won a prize .',\n",
        "    'This is a short sentence .']\n",
        "text_tokenized, text_tokenizer = tokenize(text_sentences)\n",
        "print(text_tokenizer.word_index)\n",
        "print()\n",
        "for sample_i, (sent, token_sent) in enumerate(zip(text_sentences, text_tokenized)):\n",
        "    print('Sequence {} in x'.format(sample_i + 1))\n",
        "    print('  Input:  {}'.format(sent))\n",
        "    print('  Output: {}'.format(token_sent))"
      ]
    },
    {
      "cell_type": "code",
      "execution_count": 9,
      "metadata": {
        "colab": {
          "base_uri": "https://localhost:8080/"
        },
        "id": "_qiZfakPVrs4",
        "outputId": "4b87f543-7c05-429c-f3de-5b62870931e1"
      },
      "outputs": [
        {
          "name": "stdout",
          "output_type": "stream",
          "text": [
            "Sequence 1 in x\n",
            "  Input:  [1 2 4 5 6 7 1 8 9]\n",
            "  Output: [1 2 4 5 6 7 1 8 9 0]\n",
            "Sequence 2 in x\n",
            "  Input:  [10 11 12  2 13 14 15 16  3 17]\n",
            "  Output: [10 11 12  2 13 14 15 16  3 17]\n",
            "Sequence 3 in x\n",
            "  Input:  [18 19  3 20 21]\n",
            "  Output: [18 19  3 20 21  0  0  0  0  0]\n"
          ]
        }
      ],
      "source": [
        "def pad(x, length=None):\n",
        "    if length is None:\n",
        "        length = max([len(sentence) for sentence in x])\n",
        "    return pad_sequences(x, maxlen = length, padding = 'post')\n",
        "tests.test_pad(pad)\n",
        "# Pad Tokenized output\n",
        "test_pad = pad(text_tokenized)\n",
        "for sample_i, (token_sent, pad_sent) in enumerate(zip(text_tokenized, test_pad)):\n",
        "    print('Sequence {} in x'.format(sample_i + 1))\n",
        "    print('  Input:  {}'.format(np.array(token_sent)))\n",
        "    print('  Output: {}'.format(pad_sent))"
      ]
    },
    {
      "cell_type": "code",
      "execution_count": 11,
      "metadata": {
        "colab": {
          "base_uri": "https://localhost:8080/"
        },
        "id": "p3helD1LVujH",
        "outputId": "57c68060-7809-40b0-c31e-06f0d87e4e6c"
      },
      "outputs": [
        {
          "name": "stdout",
          "output_type": "stream",
          "text": [
            "Data Preprocessed\n",
            "Max English sentence length: 15\n",
            "Max French sentence length: 21\n",
            "English vocabulary size: 199\n",
            "French vocabulary size: 344\n"
          ]
        }
      ],
      "source": [
        "def preprocess(x, y):\n",
        "    preprocess_x, x_tk = tokenize(x)\n",
        "    preprocess_y, y_tk = tokenize(y)\n",
        "    preprocess_x = pad(preprocess_x)\n",
        "    preprocess_y = pad(preprocess_y)\n",
        "# Keras's sparse_categorical_crossentropy function requires the labels to be in 3 dimensions\n",
        "    preprocess_y = preprocess_y.reshape(*preprocess_y.shape, 1)\n",
        "    return preprocess_x, preprocess_y, x_tk, y_tk\n",
        "preproc_english_sentences, preproc_french_sentences, english_tokenizer, french_tokenizer =\\\n",
        "    preprocess(english_sentences, french_sentences)\n",
        "    \n",
        "max_english_sequence_length = preproc_english_sentences.shape[1]\n",
        "max_french_sequence_length = preproc_french_sentences.shape[1]\n",
        "english_vocab_size = len(english_tokenizer.word_index)\n",
        "french_vocab_size = len(french_tokenizer.word_index)\n",
        "print('Data Preprocessed')\n",
        "print(\"Max English sentence length:\", max_english_sequence_length)\n",
        "print(\"Max French sentence length:\", max_french_sequence_length)\n",
        "print(\"English vocabulary size:\", english_vocab_size)\n",
        "print(\"French vocabulary size:\", french_vocab_size)"
      ]
    },
    {
      "cell_type": "code",
      "execution_count": 13,
      "metadata": {
        "colab": {
          "base_uri": "https://localhost:8080/"
        },
        "id": "mC16-Xd7V8WV",
        "outputId": "1c5b2957-6e91-4ca9-d323-af6524638a70"
      },
      "outputs": [
        {
          "name": "stdout",
          "output_type": "stream",
          "text": [
            "`logits_to_text` function loaded.\n"
          ]
        }
      ],
      "source": [
        "def logits_to_text(logits, tokenizer):\n",
        "    index_to_words = {id: word for word, id in tokenizer.word_index.items()}\n",
        "    index_to_words[0] = '<PAD>'\n",
        "    return ' '.join([index_to_words[prediction] for prediction in np.argmax(logits, 1)])\n",
        "print('`logits_to_text` function loaded.')  "
      ]
    },
    {
      "cell_type": "code",
      "execution_count": 34,
      "metadata": {
        "colab": {
          "base_uri": "https://localhost:8080/"
        },
        "id": "SvFapjAAWLEA",
        "outputId": "d0576fac-abb6-45c6-9951-050940224207"
      },
      "outputs": [
        {
          "name": "stdout",
          "output_type": "stream",
          "text": [
            "114040\n",
            "(114040, 21, 1) (114040, 21, 1)\n",
            "Epoch 1/10\n",
            "2851/2851 [==============================] - 86s 5ms/step - loss: 1.6743 - accuracy: 0.5929 - val_loss: nan - val_accuracy: 0.6379\n",
            "Epoch 2/10\n",
            "2851/2851 [==============================] - 13s 4ms/step - loss: 1.2219 - accuracy: 0.6504 - val_loss: nan - val_accuracy: 0.6533\n",
            "Epoch 3/10\n",
            "2851/2851 [==============================] - 13s 5ms/step - loss: 1.1274 - accuracy: 0.6649 - val_loss: nan - val_accuracy: 0.6683\n",
            "Epoch 4/10\n",
            "2851/2851 [==============================] - 13s 5ms/step - loss: 1.0679 - accuracy: 0.6818 - val_loss: nan - val_accuracy: 0.6912\n",
            "Epoch 5/10\n",
            "2851/2851 [==============================] - 13s 4ms/step - loss: 1.0169 - accuracy: 0.6984 - val_loss: nan - val_accuracy: 0.7106\n",
            "Epoch 6/10\n",
            "2851/2851 [==============================] - 13s 5ms/step - loss: 0.9839 - accuracy: 0.7073 - val_loss: nan - val_accuracy: 0.7163\n",
            "Epoch 7/10\n",
            "2851/2851 [==============================] - 13s 5ms/step - loss: 0.9562 - accuracy: 0.7160 - val_loss: nan - val_accuracy: 0.7198\n",
            "Epoch 8/10\n",
            "2851/2851 [==============================] - 13s 5ms/step - loss: 0.9318 - accuracy: 0.7228 - val_loss: nan - val_accuracy: 0.7255\n",
            "Epoch 9/10\n",
            "2851/2851 [==============================] - 13s 4ms/step - loss: 0.9121 - accuracy: 0.7276 - val_loss: nan - val_accuracy: 0.7224\n",
            "Epoch 10/10\n",
            "2851/2851 [==============================] - 13s 5ms/step - loss: 0.8957 - accuracy: 0.7312 - val_loss: nan - val_accuracy: 0.7314\n",
            "1/1 [==============================] - 0s 470ms/step\n",
            "new jersey est parfois calme en mois et il est est en en <PAD> <PAD> <PAD> <PAD> <PAD> <PAD> <PAD> <PAD>\n"
          ]
        }
      ],
      "source": [
        "def simple_model(input_shape, output_sequence_length, english_vocab_size, french_vocab_size):\n",
        "    learning_rate = 1e-3\n",
        "    input_seq = Input(input_shape[1:])\n",
        "    rnn = GRU(64, return_sequences = True)(input_seq)\n",
        "    logits = TimeDistributed(Dense(french_vocab_size))(rnn)\n",
        "    model = Model(input_seq, Activation('softmax')(logits))\n",
        "    model.compile(loss = 'sparse_categorical_crossentropy', \n",
        "                 optimizer = Adam(learning_rate), \n",
        "                 metrics = ['accuracy'])\n",
        "    return model\n",
        "\n",
        "#tests.test_simple_model(simple_model)\n",
        "tmp_x = pad(preproc_english_sentences[:len(preproc_french_sentences)], max_french_sequence_length)\n",
        "tmp_x = tmp_x.reshape((-1, preproc_french_sentences.shape[-2], 1))\n",
        "#tmp_x = tmp_x.reshape((-1, preproc_english_sentences.shape[-2], 1))\n",
        "# Train the neural network\n",
        "print(len(preproc_french_sentences))\n",
        "print(tmp_x.shape,preproc_french_sentences.shape)\n",
        "simple_rnn_model = simple_model(\n",
        "    tmp_x.shape,\n",
        "    max_french_sequence_length,\n",
        "    english_vocab_size,\n",
        "    french_vocab_size)\n",
        "simple_rnn_model.fit(tmp_x, preproc_french_sentences, epochs=10, validation_split=0.2)\n",
        "# Print prediction(s)\n",
        "print(logits_to_text(simple_rnn_model.predict(tmp_x[:1])[0], french_tokenizer))"
      ]
    },
    {
      "cell_type": "code",
      "execution_count": 38,
      "metadata": {
        "colab": {
          "base_uri": "https://localhost:8080/"
        },
        "id": "RGDdnVS-bq_5",
        "outputId": "d7b4937f-62dc-43ca-f2ef-f7ba29efce36"
      },
      "outputs": [
        {
          "name": "stdout",
          "output_type": "stream",
          "text": [
            "Epoch 1/10\n",
            "2851/2851 [==============================] - 17s 6ms/step - loss: 1.0681 - accuracy: 0.7438 - val_loss: nan - val_accuracy: 0.8463\n",
            "Epoch 2/10\n",
            "2851/2851 [==============================] - 15s 5ms/step - loss: 0.4256 - accuracy: 0.8713 - val_loss: nan - val_accuracy: 0.8843\n",
            "Epoch 3/10\n",
            "2851/2851 [==============================] - 16s 6ms/step - loss: 0.3378 - accuracy: 0.8952 - val_loss: nan - val_accuracy: 0.8982\n",
            "Epoch 4/10\n",
            "2851/2851 [==============================] - 15s 5ms/step - loss: 0.3005 - accuracy: 0.9053 - val_loss: nan - val_accuracy: 0.9086\n",
            "Epoch 5/10\n",
            "2851/2851 [==============================] - 15s 5ms/step - loss: 0.2794 - accuracy: 0.9114 - val_loss: nan - val_accuracy: 0.9128\n",
            "Epoch 6/10\n",
            "2851/2851 [==============================] - 15s 5ms/step - loss: 0.2635 - accuracy: 0.9157 - val_loss: nan - val_accuracy: 0.9149\n",
            "Epoch 7/10\n",
            "2851/2851 [==============================] - 16s 6ms/step - loss: 0.2530 - accuracy: 0.9186 - val_loss: nan - val_accuracy: 0.9178\n",
            "Epoch 8/10\n",
            "2851/2851 [==============================] - 15s 5ms/step - loss: 0.2452 - accuracy: 0.9207 - val_loss: nan - val_accuracy: 0.9189\n",
            "Epoch 9/10\n",
            "2851/2851 [==============================] - 15s 5ms/step - loss: 0.2396 - accuracy: 0.9221 - val_loss: nan - val_accuracy: 0.9210\n",
            "Epoch 10/10\n",
            "2851/2851 [==============================] - 15s 5ms/step - loss: 0.2332 - accuracy: 0.9240 - val_loss: nan - val_accuracy: 0.9223\n",
            "1/1 [==============================] - 0s 334ms/step\n",
            "new jersey est parfois calme en l' automne et il est neigeux en en <PAD> <PAD> <PAD> <PAD> <PAD> <PAD> <PAD>\n"
          ]
        }
      ],
      "source": [
        "from keras.models import Sequential\n",
        "def embed_model(input_shape, output_sequence_length, english_vocab_size, french_vocab_size):\n",
        "    learning_rate = 1e-3\n",
        "    rnn = GRU(64, return_sequences=True, activation=\"tanh\")\n",
        "    \n",
        "    embedding = Embedding(french_vocab_size, 64, input_length=input_shape[1]) \n",
        "    logits = TimeDistributed(Dense(french_vocab_size, activation=\"softmax\"))\n",
        "    \n",
        "    model = Sequential()\n",
        "    #em can only be used in first layer --> Keras Documentation\n",
        "    model.add(embedding)\n",
        "    model.add(rnn)\n",
        "    model.add(logits)\n",
        "    model.compile(loss=sparse_categorical_crossentropy,\n",
        "                  optimizer=Adam(learning_rate),\n",
        "                  metrics=['accuracy'])\n",
        "    \n",
        "    return model\n",
        "#tests.test_embed_model(embed_model)\n",
        "# tmp_x = pad(preproc_english_sentences, max_french_sequence_length)\n",
        "# tmp_x = tmp_x.reshape((-1, preproc_french_sentences.shape[-2]))\n",
        "tmp_x = pad(preproc_english_sentences[:len(preproc_french_sentences)], max_french_sequence_length)\n",
        "tmp_x = tmp_x.reshape((-1, preproc_french_sentences.shape[-2], 1))\n",
        "embeded_model = embed_model(\n",
        "    tmp_x.shape,\n",
        "    max_french_sequence_length,\n",
        "    english_vocab_size,\n",
        "    french_vocab_size)\n",
        "embeded_model.fit(tmp_x, preproc_french_sentences, epochs=10, validation_split=0.2)\n",
        "print(logits_to_text(embeded_model.predict(tmp_x[:1])[0], french_tokenizer))"
      ]
    },
    {
      "cell_type": "code",
      "execution_count": 42,
      "metadata": {
        "colab": {
          "base_uri": "https://localhost:8080/"
        },
        "id": "7dKvi9Hfcw-V",
        "outputId": "9b33b859-785f-4563-90ca-10a6d0fd780f"
      },
      "outputs": [
        {
          "name": "stdout",
          "output_type": "stream",
          "text": [
            "Epoch 1/20\n",
            "2851/2851 [==============================] - 53s 6ms/step - loss: 1.3634 - accuracy: 0.6312 - val_loss: 1.3294 - val_accuracy: 0.6170\n",
            "Epoch 2/20\n",
            "2851/2851 [==============================] - 17s 6ms/step - loss: 1.0422 - accuracy: 0.6802 - val_loss: 1.5290 - val_accuracy: 0.5991\n",
            "Epoch 3/20\n",
            "2851/2851 [==============================] - 17s 6ms/step - loss: 0.9633 - accuracy: 0.6917 - val_loss: 1.6692 - val_accuracy: 0.5981\n",
            "Epoch 4/20\n",
            "2851/2851 [==============================] - 17s 6ms/step - loss: 0.9192 - accuracy: 0.7002 - val_loss: 1.7777 - val_accuracy: 0.5858\n",
            "Epoch 5/20\n",
            "2851/2851 [==============================] - 17s 6ms/step - loss: 0.8762 - accuracy: 0.7146 - val_loss: 1.9471 - val_accuracy: 0.5776\n",
            "Epoch 6/20\n",
            "2851/2851 [==============================] - 17s 6ms/step - loss: 0.8336 - accuracy: 0.7285 - val_loss: 2.0563 - val_accuracy: 0.5656\n",
            "Epoch 7/20\n",
            "2851/2851 [==============================] - 17s 6ms/step - loss: 0.7989 - accuracy: 0.7408 - val_loss: 2.1909 - val_accuracy: 0.5654\n",
            "Epoch 8/20\n",
            "2851/2851 [==============================] - 18s 6ms/step - loss: 0.7742 - accuracy: 0.7495 - val_loss: 2.3391 - val_accuracy: 0.5481\n",
            "Epoch 9/20\n",
            "2851/2851 [==============================] - 17s 6ms/step - loss: 0.7524 - accuracy: 0.7571 - val_loss: 2.3929 - val_accuracy: 0.5538\n",
            "Epoch 10/20\n",
            "2851/2851 [==============================] - 17s 6ms/step - loss: 0.7362 - accuracy: 0.7628 - val_loss: 2.4221 - val_accuracy: 0.5603\n",
            "Epoch 11/20\n",
            "2851/2851 [==============================] - 17s 6ms/step - loss: 0.7231 - accuracy: 0.7667 - val_loss: 2.4675 - val_accuracy: 0.5486\n",
            "Epoch 12/20\n",
            "2851/2851 [==============================] - 17s 6ms/step - loss: 0.7072 - accuracy: 0.7719 - val_loss: 2.5585 - val_accuracy: 0.5370\n",
            "Epoch 13/20\n",
            "2851/2851 [==============================] - 17s 6ms/step - loss: 0.6943 - accuracy: 0.7760 - val_loss: 2.6315 - val_accuracy: 0.5419\n",
            "Epoch 14/20\n",
            "2851/2851 [==============================] - 17s 6ms/step - loss: 0.6835 - accuracy: 0.7792 - val_loss: 2.6853 - val_accuracy: 0.5392\n",
            "Epoch 15/20\n",
            "2851/2851 [==============================] - 20s 7ms/step - loss: 0.6733 - accuracy: 0.7827 - val_loss: 2.7538 - val_accuracy: 0.5357\n",
            "Epoch 16/20\n",
            "2851/2851 [==============================] - 17s 6ms/step - loss: 0.6653 - accuracy: 0.7854 - val_loss: 2.7272 - val_accuracy: 0.5489\n",
            "Epoch 17/20\n",
            "2851/2851 [==============================] - 19s 7ms/step - loss: 0.6828 - accuracy: 0.7776 - val_loss: 2.7339 - val_accuracy: 0.5392\n",
            "Epoch 18/20\n",
            "2851/2851 [==============================] - 17s 6ms/step - loss: 0.6611 - accuracy: 0.7862 - val_loss: 2.8631 - val_accuracy: 0.5381\n",
            "Epoch 19/20\n",
            "2851/2851 [==============================] - 17s 6ms/step - loss: 0.6473 - accuracy: 0.7907 - val_loss: 2.8576 - val_accuracy: 0.5366\n",
            "Epoch 20/20\n",
            "2851/2851 [==============================] - 17s 6ms/step - loss: 0.6416 - accuracy: 0.7927 - val_loss: 2.9424 - val_accuracy: 0.5385\n",
            "1/1 [==============================] - 1s 594ms/step\n",
            "new jersey est parfois occupé au printemps mais il gèle agréable l' mai <PAD> <PAD> <PAD> <PAD> <PAD> <PAD> <PAD> <PAD>\n"
          ]
        }
      ],
      "source": [
        "def bd_model(input_shape, output_sequence_length, english_vocab_size, french_vocab_size):\n",
        "   \n",
        "    learning_rate = 1e-3\n",
        "    model = Sequential()\n",
        "    model.add(Bidirectional(GRU(128, return_sequences = True, dropout = 0.1), \n",
        "                           input_shape = input_shape[1:]))\n",
        "    model.add(TimeDistributed(Dense(french_vocab_size, activation = 'softmax')))\n",
        "    model.compile(loss = sparse_categorical_crossentropy, \n",
        "                 optimizer = Adam(learning_rate), \n",
        "                 metrics = ['accuracy'])\n",
        "    return model\n",
        "#tests.test_bd_model(bd_model)\n",
        "#tmp_x = pad(preproc_english_sentences, preproc_french_sentences.shape[1])\n",
        "# tmp_x = tmp_x.reshape((-1, preproc_french_sentences.shape[-2], 1))\n",
        "tmp_x = pad(preproc_english_sentences[:len(preproc_french_sentences)],  preproc_french_sentences.shape[1])\n",
        "tmp_x = tmp_x.reshape((-1, preproc_french_sentences.shape[-2], 1))\n",
        "bidi_model = bd_model(\n",
        "    tmp_x.shape,\n",
        "    preproc_french_sentences.shape[1],\n",
        "    len(english_tokenizer.word_index)+1,\n",
        "    len(french_tokenizer.word_index)+1)\n",
        "bidi_model.fit(tmp_x, preproc_french_sentences,epochs=20, validation_split=0.2)\n",
        "# Print prediction(s)\n",
        "print(logits_to_text(bidi_model.predict(tmp_x[:1])[0], french_tokenizer))"
      ]
    },
    {
      "cell_type": "code",
      "execution_count": 44,
      "metadata": {
        "colab": {
          "base_uri": "https://localhost:8080/"
        },
        "id": "f9bRXLbffxTI",
        "outputId": "f6d4803c-374e-4240-8539-f17ba9467af8"
      },
      "outputs": [
        {
          "name": "stdout",
          "output_type": "stream",
          "text": [
            "Epoch 1/20\n",
            "90/90 [==============================] - 6s 31ms/step - loss: 3.0735 - accuracy: 0.4305 - val_loss: 2.4956 - val_accuracy: 0.4708\n",
            "Epoch 2/20\n",
            "90/90 [==============================] - 2s 24ms/step - loss: 2.3479 - accuracy: 0.4936 - val_loss: 2.2555 - val_accuracy: 0.4977\n",
            "Epoch 3/20\n",
            "90/90 [==============================] - 2s 23ms/step - loss: 2.1938 - accuracy: 0.5044 - val_loss: 2.1099 - val_accuracy: 0.5262\n",
            "Epoch 4/20\n",
            "90/90 [==============================] - 2s 23ms/step - loss: 1.9898 - accuracy: 0.5265 - val_loss: 1.8866 - val_accuracy: 0.5419\n",
            "Epoch 5/20\n",
            "90/90 [==============================] - 2s 27ms/step - loss: 1.8179 - accuracy: 0.5501 - val_loss: 1.7487 - val_accuracy: 0.5605\n",
            "Epoch 6/20\n",
            "90/90 [==============================] - 3s 32ms/step - loss: 1.7047 - accuracy: 0.5678 - val_loss: 1.6558 - val_accuracy: 0.5759\n",
            "Epoch 7/20\n",
            "90/90 [==============================] - 2s 24ms/step - loss: 1.6244 - accuracy: 0.5753 - val_loss: 1.5862 - val_accuracy: 0.5800\n",
            "Epoch 8/20\n",
            "90/90 [==============================] - 2s 24ms/step - loss: 1.5592 - accuracy: 0.5857 - val_loss: 1.5238 - val_accuracy: 0.5919\n",
            "Epoch 9/20\n",
            "90/90 [==============================] - 2s 23ms/step - loss: 1.5050 - accuracy: 0.5979 - val_loss: 1.4792 - val_accuracy: 0.6034\n",
            "Epoch 10/20\n",
            "90/90 [==============================] - 2s 24ms/step - loss: 1.4629 - accuracy: 0.6060 - val_loss: 1.4819 - val_accuracy: 0.5908\n",
            "Epoch 11/20\n",
            "90/90 [==============================] - 2s 24ms/step - loss: 1.4293 - accuracy: 0.6136 - val_loss: 1.4365 - val_accuracy: 0.6076\n",
            "Epoch 12/20\n",
            "90/90 [==============================] - 2s 23ms/step - loss: 1.3951 - accuracy: 0.6204 - val_loss: 1.3798 - val_accuracy: 0.6232\n",
            "Epoch 13/20\n",
            "90/90 [==============================] - 2s 25ms/step - loss: 1.3703 - accuracy: 0.6245 - val_loss: 1.3669 - val_accuracy: 0.6222\n",
            "Epoch 14/20\n",
            "90/90 [==============================] - 2s 23ms/step - loss: 1.3472 - accuracy: 0.6278 - val_loss: 1.3441 - val_accuracy: 0.6266\n",
            "Epoch 15/20\n",
            "90/90 [==============================] - 2s 23ms/step - loss: 1.3279 - accuracy: 0.6309 - val_loss: 1.3133 - val_accuracy: 0.6335\n",
            "Epoch 16/20\n",
            "90/90 [==============================] - 2s 25ms/step - loss: 1.3075 - accuracy: 0.6339 - val_loss: 1.2990 - val_accuracy: 0.6349\n",
            "Epoch 17/20\n",
            "90/90 [==============================] - 2s 23ms/step - loss: 1.2914 - accuracy: 0.6371 - val_loss: 1.2835 - val_accuracy: 0.6396\n",
            "Epoch 18/20\n",
            "90/90 [==============================] - 2s 24ms/step - loss: 1.2758 - accuracy: 0.6399 - val_loss: 1.2684 - val_accuracy: 0.6418\n",
            "Epoch 19/20\n",
            "90/90 [==============================] - 2s 24ms/step - loss: 1.2776 - accuracy: 0.6387 - val_loss: 1.2885 - val_accuracy: 0.6358\n",
            "Epoch 20/20\n",
            "90/90 [==============================] - 2s 24ms/step - loss: 1.2577 - accuracy: 0.6429 - val_loss: 1.2477 - val_accuracy: 0.6447\n",
            "1/1 [==============================] - 1s 805ms/step\n",
            "new jersey est jamais agréable en mois mais il est est en en <PAD> <PAD> <PAD> <PAD> <PAD> <PAD> <PAD> <PAD>\n"
          ]
        }
      ],
      "source": [
        "def encdec_model(input_shape, output_sequence_length, english_vocab_size, french_vocab_size):\n",
        "  \n",
        "    learning_rate = 1e-3\n",
        "    model = Sequential()\n",
        "    model.add(GRU(128, input_shape = input_shape[1:], return_sequences = False))\n",
        "    model.add(RepeatVector(output_sequence_length))\n",
        "    model.add(GRU(128, return_sequences = True))\n",
        "    model.add(TimeDistributed(Dense(french_vocab_size, activation = 'softmax')))\n",
        "    \n",
        "    model.compile(loss = sparse_categorical_crossentropy, \n",
        "                 optimizer = Adam(learning_rate), \n",
        "                 metrics = ['accuracy'])\n",
        "    return model\n",
        "#tests.test_encdec_model(encdec_model)\n",
        "tmp_x = pad(preproc_english_sentences[:len(preproc_french_sentences)])\n",
        "tmp_x = tmp_x.reshape((-1, preproc_english_sentences.shape[1], 1))\n",
        "encodeco_model = encdec_model(\n",
        "    tmp_x.shape,\n",
        "    preproc_french_sentences.shape[1],\n",
        "    len(english_tokenizer.word_index)+1,\n",
        "    len(french_tokenizer.word_index)+1)\n",
        "encodeco_model.fit(tmp_x, preproc_french_sentences, batch_size=1024, epochs=20, validation_split=0.2)\n",
        "print(logits_to_text(encodeco_model.predict(tmp_x[:1])[0], french_tokenizer))"
      ]
    },
    {
      "cell_type": "code",
      "execution_count": 46,
      "metadata": {
        "colab": {
          "base_uri": "https://localhost:8080/"
        },
        "id": "Dz1p-OzkhAS9",
        "outputId": "9feedb82-2927-4246-8236-031a4a221252"
      },
      "outputs": [
        {
          "name": "stdout",
          "output_type": "stream",
          "text": [
            "Final Model Loaded\n"
          ]
        }
      ],
      "source": [
        "def model_final(input_shape, output_sequence_length, english_vocab_size, french_vocab_size):\n",
        "  \n",
        "    model = Sequential()\n",
        "    model.add(Embedding(input_dim=english_vocab_size,output_dim=128,input_length=input_shape[1]))\n",
        "    model.add(Bidirectional(GRU(256,return_sequences=False)))\n",
        "    model.add(RepeatVector(output_sequence_length))\n",
        "    model.add(Bidirectional(GRU(256,return_sequences=True)))\n",
        "    model.add(TimeDistributed(Dense(french_vocab_size,activation='softmax')))\n",
        "    learning_rate = 0.005\n",
        "    \n",
        "    model.compile(loss = sparse_categorical_crossentropy, \n",
        "                 optimizer = Adam(learning_rate), \n",
        "                 metrics = ['accuracy'])\n",
        "    \n",
        "    return model\n",
        "#tests.test_model_final(model_final)\n",
        "print('Final Model Loaded')"
      ]
    },
    {
      "cell_type": "code",
      "execution_count": 53,
      "metadata": {
        "colab": {
          "base_uri": "https://localhost:8080/"
        },
        "id": "yJCXZMfThHB_",
        "outputId": "a71cfede-957f-4ad5-d943-38a177e689fe"
      },
      "outputs": [
        {
          "name": "stdout",
          "output_type": "stream",
          "text": [
            "Epoch 1/2\n",
            "2851/2851 [==============================] - 34s 10ms/step - loss: 0.5979 - accuracy: 0.8309 - val_loss: 0.3783 - val_accuracy: 0.8850\n",
            "Epoch 2/2\n",
            "2851/2851 [==============================] - 28s 10ms/step - loss: 0.4965 - accuracy: 0.8512 - val_loss: 0.5604 - val_accuracy: 0.8306\n",
            "1/1 [==============================] - 1s 1s/step\n",
            "Sample 1:\n",
            "il a vu un camion camion camion <PAD> <PAD> <PAD> <PAD> <PAD> <PAD> <PAD> <PAD> <PAD> <PAD> <PAD> <PAD> <PAD> <PAD>\n",
            "Il a vu un vieux camion jaune\n",
            "Sample 2:\n",
            "new jersey est parfois calme pendant cours et il est il est est en en <PAD> <PAD> <PAD> <PAD> <PAD> <PAD>\n",
            "june fall is sometimes quiet winter favorite france but it is yellow in freezing <PAD> <PAD> <PAD> <PAD> <PAD> <PAD> <PAD>\n"
          ]
        }
      ],
      "source": [
        "def final_predictions(x, y, x_tk, y_tk):\n",
        "    tmp_X = pad(preproc_english_sentences[:len(preproc_french_sentences)])\n",
        "    model = model_final(tmp_X.shape,\n",
        "                        preproc_french_sentences.shape[1],\n",
        "                        len(english_tokenizer.word_index)+1,\n",
        "                        len(french_tokenizer.word_index)+1)\n",
        "    \n",
        "    model.fit(tmp_X, preproc_french_sentences, epochs = 2, validation_split = 0.2)\n",
        " \n",
        "    y_id_to_word = {value: key for key, value in y_tk.word_index.items()}\n",
        "    y_id_to_word[0] = '<PAD>'\n",
        "    x_id_to_word = {value: key for key, value in x_tk.word_index.items()}\n",
        "    x_id_to_word[0] = '<PAD>'\n",
        "    sentence = 'he saw a old yellow truck'\n",
        "    sentence = [x_tk.word_index[word] for word in sentence.split()]\n",
        "    sentence = pad_sequences([sentence], maxlen=x.shape[-1], padding='post')\n",
        "    sentences = np.array([sentence[0], x[0]])\n",
        "    predictions = model.predict(sentences, len(sentences))\n",
        "    print('Sample 1:')\n",
        "    print(' '.join([y_id_to_word[np.argmax(x)] for x in predictions[0]]))\n",
        "    print('Il a vu un vieux camion jaune')\n",
        "    print('Sample 2:')\n",
        "    print(' '.join([x_id_to_word[np.argmax(x)] for x in predictions[1]]))\n",
        "    print(' '.join([y_id_to_word[np.max(x)] for x in y[0]]))\n",
        "    #print(predictions)\n",
        "\n",
        "final_predictions(preproc_english_sentences, preproc_french_sentences, english_tokenizer, french_tokenizer)"
      ]
    }
  ],
  "metadata": {
    "accelerator": "GPU",
    "colab": {
      "provenance": []
    },
    "gpuClass": "standard",
    "kernelspec": {
      "display_name": "Python 3",
      "name": "python3"
    },
    "language_info": {
      "name": "python"
    }
  },
  "nbformat": 4,
  "nbformat_minor": 0
}
