{
  "cells": [
    {
      "cell_type": "code",
      "execution_count": 4,
      "metadata": {
        "id": "B70oc19OTVnM"
      },
      "outputs": [],
      "source": [
        "import collections\n",
        "import helper\n",
        "import numpy as np\n",
        "import project_tests as tests\n",
        "from keras.preprocessing.text import Tokenizer\n",
        "from keras.utils import pad_sequences\n",
        "from keras.models import Model\n",
        "from keras.layers import GRU, Input, Dense, TimeDistributed, Activation, RepeatVector, Bidirectional\n",
        "from keras.layers import Embedding\n",
        "from keras.optimizers import Adam\n",
        "from keras.losses import sparse_categorical_crossentropy"
      ]
    },
    {
      "cell_type": "code",
      "execution_count": 6,
      "metadata": {
        "id": "LHgLlWqBaoHp"
      },
      "outputs": [],
      "source": [
        "import os\n",
        "\n",
        "\n",
        "def load_data(path):\n",
        "    \"\"\"\n",
        "    Load dataset\n",
        "    \"\"\"\n",
        "    input_file = os.path.join(path)\n",
        "    with open(input_file, \"r\") as f:\n",
        "        data = f.read()\n",
        "\n",
        "    return data.split('\\n')[0:10000]"
      ]
    },
    {
      "cell_type": "code",
      "execution_count": 7,
      "metadata": {
        "colab": {
          "base_uri": "https://localhost:8080/"
        },
        "id": "SmBBxbtTVY6d",
        "outputId": "4bbc43a3-fcf1-4bad-f7fb-e861b788aca4"
      },
      "outputs": [
        {
          "name": "stdout",
          "output_type": "stream",
          "text": [
            "Dataset Loaded\n"
          ]
        }
      ],
      "source": [
        "#english_sentences = helper.load_data('./small_vocab_en')\n",
        "english_sentences = load_data('./eng')\n",
        "french_sentences = load_data('./fra')\n",
        "spanish_sentences = load_data('./spa')\n",
        "italian_sentences = load_data('./ita')\n",
        "german_sentences = load_data('./deu')\n",
        "print('Dataset Loaded')"
      ]
    },
    {
      "cell_type": "code",
      "execution_count": 8,
      "metadata": {
        "colab": {
          "base_uri": "https://localhost:8080/"
        },
        "id": "GpBSoeXHVf-s",
        "outputId": "6d24c0ae-54b8-4140-c20a-7b56f14dc0df"
      },
      "outputs": [
        {
          "name": "stdout",
          "output_type": "stream",
          "text": [
            "small_vocab_en Line 1:  Hi.\n",
            "small_vocab_fr Line 1:  Va !\n",
            "small_vocab_fr Line 1:  Geh.\n",
            "small_vocab_fr Line 1:  Ciao!\n",
            "small_vocab_fr Line 1:  Ve.\n",
            "small_vocab_en Line 2:  Hi.\n",
            "small_vocab_fr Line 2:  Marche.\n",
            "small_vocab_fr Line 2:  Hallo!\n",
            "small_vocab_fr Line 2:  Ciao.\n",
            "small_vocab_fr Line 2:  Vete.\n"
          ]
        }
      ],
      "source": [
        "for sample_i in range(2):\n",
        "    print('small_vocab_en Line {}:  {}'.format(sample_i + 1, english_sentences[sample_i]))\n",
        "    print('small_vocab_fr Line {}:  {}'.format(sample_i + 1, french_sentences[sample_i]))\n",
        "    print('small_vocab_fr Line {}:  {}'.format(sample_i + 1, german_sentences[sample_i]))\n",
        "    print('small_vocab_fr Line {}:  {}'.format(sample_i + 1, italian_sentences[sample_i]))\n",
        "    print('small_vocab_fr Line {}:  {}'.format(sample_i + 1, spanish_sentences[sample_i]))"
      ]
    },
    {
      "cell_type": "code",
      "execution_count": 9,
      "metadata": {
        "colab": {
          "base_uri": "https://localhost:8080/"
        },
        "id": "fSQyveUpVmJ_",
        "outputId": "8cf21dcd-54ed-46ac-fae5-4f41c86bf6c5"
      },
      "outputs": [
        {
          "name": "stdout",
          "output_type": "stream",
          "text": [
            "2009699 English words.\n",
            "27437 unique English words.\n",
            "10 Most common words in the English dataset:\n",
            "\"I\" \"Tom\" \"to\" \"you\" \"the\" \"a\" \"is\" \"in\" \"I'm\" \"was\"\n",
            "\n",
            "1649839 German words.\n",
            "65840 unique german words.\n",
            "10 Most common words in the german dataset:\n",
            "\"Tom\" \"Ich\" \"ist\" \"nicht\" \"zu\" \"Sie\" \"du\" \"das\" \"ich\" \"die\"\n",
            "\n",
            "1961807 Italian words.\n",
            "52389 unique italian words.\n",
            "10 Most common words in the italian dataset:\n",
            "\"Tom\" \"di\" \"è\" \"a\" \"non\" \"che\" \"Io\" \"Non\" \"un\" \"la\"\n",
            "\n",
            "837171 spanish words.\n",
            "48390 unique spanish words.\n",
            "10 Most common words in the spanish dataset:\n",
            "\"de\" \"que\" \"a\" \"Tom\" \"la\" \"en\" \"el\" \"no\" \"es\" \"un\"\n",
            "\n",
            "1391967 French words.\n",
            "49587 unique French words.\n",
            "10 Most common words in the French dataset:\n",
            "\"de\" \"Je\" \"?\" \"pas\" \"que\" \"à\" \"ne\" \"la\" \"le\" \"Tom\"\n"
          ]
        }
      ],
      "source": [
        "english_words_counter = collections.Counter([word for sentence in english_sentences for word in sentence.split()])\n",
        "french_words_counter = collections.Counter([word for sentence in french_sentences for word in sentence.split()])\n",
        "italian_words_counter = collections.Counter([word for sentence in italian_sentences for word in sentence.split()])\n",
        "german_words_counter = collections.Counter([word for sentence in german_sentences for word in sentence.split()])\n",
        "spanish_words_counter = collections.Counter([word for sentence in spanish_sentences for word in sentence.split()])\n",
        "print('{} English words.'.format(len([word for sentence in english_sentences for word in sentence.split()])))\n",
        "print('{} unique English words.'.format(len(english_words_counter)))\n",
        "print('10 Most common words in the English dataset:')\n",
        "print('\"' + '\" \"'.join(list(zip(*english_words_counter.most_common(10)))[0]) + '\"')\n",
        "print()\n",
        "print('{} German words.'.format(len([word for sentence in german_sentences for word in sentence.split()])))\n",
        "print('{} unique german words.'.format(len(german_words_counter)))\n",
        "print('10 Most common words in the german dataset:')\n",
        "print('\"' + '\" \"'.join(list(zip(*german_words_counter.most_common(10)))[0]) + '\"')\n",
        "print()\n",
        "print('{} Italian words.'.format(len([word for sentence in italian_sentences for word in sentence.split()])))\n",
        "print('{} unique italian words.'.format(len(italian_words_counter)))\n",
        "print('10 Most common words in the italian dataset:')\n",
        "print('\"' + '\" \"'.join(list(zip(*italian_words_counter.most_common(10)))[0]) + '\"')\n",
        "print()\n",
        "print('{} spanish words.'.format(len([word for sentence in spanish_sentences for word in sentence.split()])))\n",
        "print('{} unique spanish words.'.format(len(spanish_words_counter)))\n",
        "print('10 Most common words in the spanish dataset:')\n",
        "print('\"' + '\" \"'.join(list(zip(*spanish_words_counter.most_common(10)))[0]) + '\"')\n",
        "print()\n",
        "print('{} French words.'.format(len([word for sentence in french_sentences for word in sentence.split()])))\n",
        "print('{} unique French words.'.format(len(french_words_counter)))\n",
        "print('10 Most common words in the French dataset:')\n",
        "print('\"' + '\" \"'.join(list(zip(*french_words_counter.most_common(10)))[0]) + '\"')\n"
      ]
    },
    {
      "cell_type": "code",
      "execution_count": 10,
      "metadata": {
        "colab": {
          "base_uri": "https://localhost:8080/"
        },
        "id": "zRYAz_URVoWt",
        "outputId": "c23bf9c9-1b49-4fcf-9c06-70c1fba01d43"
      },
      "outputs": [
        {
          "name": "stdout",
          "output_type": "stream",
          "text": [
            "{'the': 1, 'quick': 2, 'a': 3, 'brown': 4, 'fox': 5, 'jumps': 6, 'over': 7, 'lazy': 8, 'dog': 9, 'by': 10, 'jove': 11, 'my': 12, 'study': 13, 'of': 14, 'lexicography': 15, 'won': 16, 'prize': 17, 'this': 18, 'is': 19, 'short': 20, 'sentence': 21}\n",
            "\n",
            "Sequence 1 in x\n",
            "  Input:  The quick brown fox jumps over the lazy dog .\n",
            "  Output: [1, 2, 4, 5, 6, 7, 1, 8, 9]\n",
            "Sequence 2 in x\n",
            "  Input:  By Jove , my quick study of lexicography won a prize .\n",
            "  Output: [10, 11, 12, 2, 13, 14, 15, 16, 3, 17]\n",
            "Sequence 3 in x\n",
            "  Input:  This is a short sentence .\n",
            "  Output: [18, 19, 3, 20, 21]\n"
          ]
        }
      ],
      "source": [
        "def tokenize(x):\n",
        "    x_tk = Tokenizer(char_level = False)\n",
        "    x_tk.fit_on_texts(x)\n",
        "    return x_tk.texts_to_sequences(x), x_tk\n",
        "text_sentences = [\n",
        "    'The quick brown fox jumps over the lazy dog .',\n",
        "    'By Jove , my quick study of lexicography won a prize .',\n",
        "    'This is a short sentence .']\n",
        "text_tokenized, text_tokenizer = tokenize(text_sentences)\n",
        "print(text_tokenizer.word_index)\n",
        "print()\n",
        "for sample_i, (sent, token_sent) in enumerate(zip(text_sentences, text_tokenized)):\n",
        "    print('Sequence {} in x'.format(sample_i + 1))\n",
        "    print('  Input:  {}'.format(sent))\n",
        "    print('  Output: {}'.format(token_sent))"
      ]
    },
    {
      "cell_type": "code",
      "execution_count": 11,
      "metadata": {
        "colab": {
          "base_uri": "https://localhost:8080/"
        },
        "id": "_qiZfakPVrs4",
        "outputId": "56afbe4e-2eea-4bb7-cb06-66fc9dde0b90"
      },
      "outputs": [
        {
          "name": "stdout",
          "output_type": "stream",
          "text": [
            "Sequence 1 in x\n",
            "  Input:  [1 2 4 5 6 7 1 8 9]\n",
            "  Output: [1 2 4 5 6 7 1 8 9 0]\n",
            "Sequence 2 in x\n",
            "  Input:  [10 11 12  2 13 14 15 16  3 17]\n",
            "  Output: [10 11 12  2 13 14 15 16  3 17]\n",
            "Sequence 3 in x\n",
            "  Input:  [18 19  3 20 21]\n",
            "  Output: [18 19  3 20 21  0  0  0  0  0]\n"
          ]
        }
      ],
      "source": [
        "def pad(x, length=None):\n",
        "    if length is None:\n",
        "        length = max([len(sentence) for sentence in x])\n",
        "    return pad_sequences(x, maxlen = length, padding = 'post')\n",
        "tests.test_pad(pad)\n",
        "# Pad Tokenized output\n",
        "test_pad = pad(text_tokenized)\n",
        "for sample_i, (token_sent, pad_sent) in enumerate(zip(text_tokenized, test_pad)):\n",
        "    print('Sequence {} in x'.format(sample_i + 1))\n",
        "    print('  Input:  {}'.format(np.array(token_sent)))\n",
        "    print('  Output: {}'.format(pad_sent))"
      ]
    },
    {
      "cell_type": "code",
      "execution_count": 12,
      "metadata": {
        "colab": {
          "base_uri": "https://localhost:8080/"
        },
        "id": "p3helD1LVujH",
        "outputId": "4b974d01-9cb9-473e-8604-1065a18d8b7d"
      },
      "outputs": [
        {
          "name": "stdout",
          "output_type": "stream",
          "text": [
            "Data Preprocessed\n",
            "Max English sentence length: 101\n",
            "Max French sentence length: 55\n",
            "Max spanish sentence length: 77\n",
            "Max german sentence length: 92\n",
            "Max italian sentence length: 68\n",
            "English vocabulary size: 14106\n",
            "French vocabulary size: 34186\n",
            "spanish vocabulary size: 38410\n",
            "german vocabulary size: 28879\n",
            "italian vocabulary size: 28967\n"
          ]
        }
      ],
      "source": [
        "def preprocess(x, y, z, a, b):\n",
        "    preprocess_x, x_tk = tokenize(x)\n",
        "    preprocess_z, z_tk = tokenize(z)\n",
        "    preprocess_a, a_tk = tokenize(a)\n",
        "    preprocess_b, b_tk = tokenize(b)\n",
        "    preprocess_y, y_tk = tokenize(y)\n",
        "    preprocess_x = pad(preprocess_x)\n",
        "    preprocess_a = pad(preprocess_a)\n",
        "    preprocess_b = pad(preprocess_b)\n",
        "    preprocess_z = pad(preprocess_z)\n",
        "    preprocess_y = pad(preprocess_y)\n",
        "# Keras's sparse_categorical_crossentropy function requires the labels to be in 3 dimensions\n",
        "    preprocess_y = preprocess_y.reshape(*preprocess_y.shape, 1)\n",
        "    preprocess_a = preprocess_a.reshape(*preprocess_a.shape, 1)\n",
        "    preprocess_b = preprocess_b.reshape(*preprocess_b.shape, 1)\n",
        "    preprocess_z = preprocess_z.reshape(*preprocess_z.shape, 1)\n",
        "    return preprocess_x, preprocess_y, preprocess_a, preprocess_b, preprocess_z, x_tk, y_tk, a_tk, b_tk, z_tk\n",
        "preproc_english_sentences, preproc_french_sentences, preproc_spanish_sentences, preproc_german_sentences, preproc_italian_sentences, english_tokenizer, french_tokenizer,spanish_tokenizer,german_tokenizer,italian_tokenizer =\\\n",
        "    preprocess(english_sentences, french_sentences,spanish_sentences,german_sentences,italian_sentences)\n",
        "    \n",
        "max_english_sequence_length = preproc_english_sentences.shape[1]\n",
        "max_french_sequence_length = preproc_french_sentences.shape[1]\n",
        "max_spanish_sequence_length = preproc_spanish_sentences.shape[1]\n",
        "max_german_sequence_length = preproc_german_sentences.shape[1]\n",
        "max_italian_sequence_length = preproc_italian_sentences.shape[1]\n",
        "english_vocab_size = len(english_tokenizer.word_index)\n",
        "french_vocab_size = len(french_tokenizer.word_index)\n",
        "spanish_vocab_size = len(spanish_tokenizer.word_index)\n",
        "german_vocab_size = len(german_tokenizer.word_index)\n",
        "italian_vocab_size = len(italian_tokenizer.word_index)\n",
        "print('Data Preprocessed')\n",
        "print(\"Max English sentence length:\", max_english_sequence_length)\n",
        "print(\"Max French sentence length:\", max_french_sequence_length)\n",
        "print(\"Max spanish sentence length:\", max_spanish_sequence_length)\n",
        "print(\"Max german sentence length:\", max_german_sequence_length)\n",
        "print(\"Max italian sentence length:\", max_italian_sequence_length)\n",
        "print(\"English vocabulary size:\", english_vocab_size)\n",
        "print(\"French vocabulary size:\", french_vocab_size)\n",
        "print(\"spanish vocabulary size:\", spanish_vocab_size)\n",
        "print(\"german vocabulary size:\", german_vocab_size)\n",
        "print(\"italian vocabulary size:\", italian_vocab_size)"
      ]
    },
    {
      "cell_type": "code",
      "execution_count": 13,
      "metadata": {
        "colab": {
          "base_uri": "https://localhost:8080/"
        },
        "id": "mC16-Xd7V8WV",
        "outputId": "a7681247-0b76-4a20-fec3-60605d8561d6"
      },
      "outputs": [
        {
          "name": "stdout",
          "output_type": "stream",
          "text": [
            "`logits_to_text` function loaded.\n"
          ]
        }
      ],
      "source": [
        "def logits_to_text(logits, tokenizer):\n",
        "    index_to_words = {id: word for word, id in tokenizer.word_index.items()}\n",
        "    index_to_words[0] = '<PAD>'\n",
        "    return ' '.join([index_to_words[prediction] for prediction in np.argmax(logits, 1)])\n",
        "print('`logits_to_text` function loaded.')  "
      ]
    },
    {
      "cell_type": "code",
      "execution_count": 16,
      "metadata": {
        "colab": {
          "base_uri": "https://localhost:8080/"
        },
        "id": "SvFapjAAWLEA",
        "outputId": "4fec5486-1e1f-41e8-aa6a-9a72105403d1"
      },
      "outputs": [
        {
          "name": "stdout",
          "output_type": "stream",
          "text": [
            "208907\n",
            "(208907, 55, 1) (208907, 55, 1)\n",
            "Epoch 1/2\n",
            "5223/5223 [==============================] - 407s 78ms/step - loss: 0.8557 - accuracy: 0.8997 - val_loss: nan - val_accuracy: 0.8181\n",
            "Epoch 2/2\n",
            "5223/5223 [==============================] - 386s 74ms/step - loss: 0.7132 - accuracy: 0.9009 - val_loss: nan - val_accuracy: 0.8181\n",
            "1/1 [==============================] - 0s 329ms/step\n",
            "je ne pas <PAD> <PAD> <PAD> <PAD> <PAD> <PAD> <PAD> <PAD> <PAD> <PAD> <PAD> <PAD> <PAD> <PAD> <PAD> <PAD> <PAD> <PAD> <PAD> <PAD> <PAD> <PAD> <PAD> <PAD> <PAD> <PAD> <PAD> <PAD> <PAD> <PAD> <PAD> <PAD> <PAD> <PAD> <PAD> <PAD> <PAD> <PAD> <PAD> <PAD> <PAD> <PAD> <PAD> <PAD> <PAD> <PAD> <PAD> <PAD> <PAD> <PAD> <PAD> <PAD>\n"
          ]
        }
      ],
      "source": [
        "def simple_modelfr(input_shape, output_sequence_length, english_vocab_size, french_vocab_size):\n",
        "    learning_rate = 1e-3\n",
        "    input_seq = Input(input_shape[1:])\n",
        "    rnn = GRU(64, return_sequences = True)(input_seq)\n",
        "    logits = TimeDistributed(Dense(french_vocab_size))(rnn)\n",
        "    model = Model(input_seq, Activation('softmax')(logits))\n",
        "    model.compile(loss = 'sparse_categorical_crossentropy', \n",
        "                 optimizer = Adam(learning_rate), \n",
        "                 metrics = ['accuracy'])\n",
        "    return model\n",
        "\n",
        "#tests.test_simple_model(simple_model)\n",
        "tmp_x = pad(preproc_english_sentences[:len(preproc_french_sentences)], max_french_sequence_length)\n",
        "tmp_x = tmp_x.reshape((-1, preproc_french_sentences.shape[-2], 1))\n",
        "#tmp_x = tmp_x.reshape((-1, preproc_english_sentences.shape[-2], 1))\n",
        "# Train the neural network\n",
        "print(len(preproc_french_sentences))\n",
        "print(tmp_x.shape,preproc_french_sentences.shape)\n",
        "simple_rnn_model_fr = simple_modelfr(\n",
        "    tmp_x.shape,\n",
        "    max_french_sequence_length,\n",
        "    english_vocab_size,\n",
        "    french_vocab_size)\n",
        "simple_rnn_model_fr.fit(tmp_x, preproc_french_sentences, epochs=2, validation_split=0.2)\n",
        "# Print prediction(s)\n",
        "print(logits_to_text(simple_rnn_model_fr.predict(tmp_x[:1])[0], french_tokenizer))\n",
        "simple_rnn_model_fr.save('simple_rnn_model_fr.h5')"
      ]
    },
    {
      "cell_type": "code",
      "execution_count": 17,
      "metadata": {
        "colab": {
          "base_uri": "https://localhost:8080/"
        },
        "id": "UB7jW5Y3jo6Z",
        "outputId": "43cfba50-8b62-4019-eaa3-b5f677e69928"
      },
      "outputs": [
        {
          "name": "stdout",
          "output_type": "stream",
          "text": [
            "364201\n",
            "(364201, 92, 1) (364201, 92, 1)\n",
            "Epoch 1/2\n",
            "9105/9105 [==============================] - 788s 86ms/step - loss: 0.4221 - accuracy: 0.9505 - val_loss: nan - val_accuracy: 0.9157\n",
            "Epoch 2/2\n",
            "9105/9105 [==============================] - 791s 87ms/step - loss: 0.3532 - accuracy: 0.9508 - val_loss: nan - val_accuracy: 0.9159\n",
            "1/1 [==============================] - 0s 287ms/step\n",
            "tom la è <PAD> <PAD> <PAD> <PAD> <PAD> <PAD> <PAD> <PAD> <PAD> <PAD> <PAD> <PAD> <PAD> <PAD> <PAD> <PAD> <PAD> <PAD> <PAD> <PAD> <PAD> <PAD> <PAD> <PAD> <PAD> <PAD> <PAD> <PAD> <PAD> <PAD> <PAD> <PAD> <PAD> <PAD> <PAD> <PAD> <PAD> <PAD> <PAD> <PAD> <PAD> <PAD> <PAD> <PAD> <PAD> <PAD> <PAD> <PAD> <PAD> <PAD> <PAD> <PAD> <PAD> <PAD> <PAD> <PAD> <PAD> <PAD> <PAD> <PAD> <PAD> <PAD> <PAD> <PAD> <PAD> <PAD> <PAD> <PAD> <PAD> <PAD> <PAD> <PAD> <PAD> <PAD> <PAD> <PAD> <PAD> <PAD> <PAD> <PAD> <PAD> <PAD> <PAD> <PAD> <PAD> <PAD> <PAD> <PAD> <PAD>\n"
          ]
        }
      ],
      "source": [
        "def simple_modelde(input_shape, output_sequence_length, english_vocab_size, german_vocab_size):\n",
        "    learning_rate = 1e-3\n",
        "    input_seq = Input(input_shape[1:])\n",
        "    rnn = GRU(64, return_sequences = True)(input_seq)\n",
        "    logits = TimeDistributed(Dense(german_vocab_size))(rnn)\n",
        "    model = Model(input_seq, Activation('softmax')(logits))\n",
        "    model.compile(loss = 'sparse_categorical_crossentropy', \n",
        "                 optimizer = Adam(learning_rate), \n",
        "                 metrics = ['accuracy'])\n",
        "    return model\n",
        "\n",
        "#tests.test_simple_model(simple_model)\n",
        "tmp_x = pad(preproc_english_sentences[:len(preproc_german_sentences)], max_german_sequence_length)\n",
        "tmp_x = tmp_x.reshape((-1, preproc_german_sentences.shape[-2], 1))\n",
        "#tmp_x = tmp_x.reshape((-1, preproc_english_sentences.shape[-2], 1))\n",
        "# Train the neural network\n",
        "print(len(preproc_german_sentences))\n",
        "print(tmp_x.shape,preproc_german_sentences.shape)\n",
        "simple_rnn_model_de = simple_modelde(\n",
        "    tmp_x.shape,\n",
        "    max_german_sequence_length,\n",
        "    english_vocab_size,\n",
        "    german_vocab_size)\n",
        "simple_rnn_model_de.fit(tmp_x, preproc_german_sentences, epochs=2, validation_split=0.2)\n",
        "# Print prediction(s)\n",
        "print(logits_to_text(simple_rnn_model_fr.predict(tmp_x[:1])[0], german_tokenizer))\n",
        "simple_rnn_model_de.save('simple_rnn_model_de.h5')"
      ]
    },
    {
      "cell_type": "code",
      "execution_count": 18,
      "metadata": {
        "colab": {
          "base_uri": "https://localhost:8080/"
        },
        "id": "MEh9wGlzqIGC",
        "outputId": "624a985d-bd5c-498e-c52e-e43ab27862fb"
      },
      "outputs": [
        {
          "name": "stdout",
          "output_type": "stream",
          "text": [
            "1/1 [==============================] - 1s 594ms/step\n",
            "tom non <PAD> <PAD> <PAD> <PAD> <PAD> <PAD> <PAD> <PAD> <PAD> <PAD> <PAD> <PAD> <PAD> <PAD> <PAD> <PAD> <PAD> <PAD> <PAD> <PAD> <PAD> <PAD> <PAD> <PAD> <PAD> <PAD> <PAD> <PAD> <PAD> <PAD> <PAD> <PAD> <PAD> <PAD> <PAD> <PAD> <PAD> <PAD> <PAD> <PAD> <PAD> <PAD> <PAD> <PAD> <PAD> <PAD> <PAD> <PAD> <PAD> <PAD> <PAD> <PAD> <PAD> <PAD> <PAD> <PAD> <PAD> <PAD> <PAD> <PAD> <PAD> <PAD> <PAD> <PAD> <PAD> <PAD> <PAD> <PAD> <PAD> <PAD> <PAD> <PAD> <PAD> <PAD> <PAD> <PAD> <PAD> <PAD> <PAD> <PAD> <PAD> <PAD> <PAD> <PAD> <PAD> <PAD> <PAD> <PAD> <PAD> <PAD>\n"
          ]
        }
      ],
      "source": [
        "print(logits_to_text(simple_rnn_model_de.predict(tmp_x[:1])[0], german_tokenizer))"
      ]
    },
    {
      "cell_type": "code",
      "execution_count": 19,
      "metadata": {
        "colab": {
          "base_uri": "https://localhost:8080/"
        },
        "id": "TKG5TqZxqWd3",
        "outputId": "a54b4d15-4fa0-458b-ed32-ed35bf0e3fbe"
      },
      "outputs": [
        {
          "name": "stdout",
          "output_type": "stream",
          "text": [
            "139706\n",
            "(139706, 68, 1) (139706, 68, 1)\n",
            "Epoch 1/2\n",
            "3493/3493 [==============================] - 252s 72ms/step - loss: 0.7217 - accuracy: 0.9266 - val_loss: nan - val_accuracy: 0.8607\n",
            "Epoch 2/2\n",
            "3493/3493 [==============================] - 250s 72ms/step - loss: 0.5426 - accuracy: 0.9273 - val_loss: nan - val_accuracy: 0.8607\n",
            "1/1 [==============================] - 0s 289ms/step\n",
            "tom es <PAD> <PAD> <PAD> <PAD> <PAD> <PAD> <PAD> <PAD> <PAD> <PAD> <PAD> <PAD> <PAD> <PAD> <PAD> <PAD> <PAD> <PAD> <PAD> <PAD> <PAD> <PAD> <PAD> <PAD> <PAD> <PAD> <PAD> <PAD> <PAD> <PAD> <PAD> <PAD> <PAD> <PAD> <PAD> <PAD> <PAD> <PAD> <PAD> <PAD> <PAD> <PAD> <PAD> <PAD> <PAD> <PAD> <PAD> <PAD> <PAD> <PAD> <PAD> <PAD> <PAD> <PAD> <PAD> <PAD> <PAD> <PAD> <PAD> <PAD> <PAD> <PAD> <PAD> <PAD> <PAD> <PAD>\n"
          ]
        }
      ],
      "source": [
        "def simple_modelit(input_shape, output_sequence_length, english_vocab_size, italian_vocab_size):\n",
        "    learning_rate = 1e-3\n",
        "    input_seq = Input(input_shape[1:])\n",
        "    rnn = GRU(64, return_sequences = True)(input_seq)\n",
        "    logits = TimeDistributed(Dense(italian_vocab_size))(rnn)\n",
        "    model = Model(input_seq, Activation('softmax')(logits))\n",
        "    model.compile(loss = 'sparse_categorical_crossentropy', \n",
        "                 optimizer = Adam(learning_rate), \n",
        "                 metrics = ['accuracy'])\n",
        "    return model\n",
        "\n",
        "#tests.test_simple_model(simple_model)\n",
        "tmp_x = pad(preproc_english_sentences[:len(preproc_italian_sentences)], max_italian_sequence_length)\n",
        "tmp_x = tmp_x.reshape((-1, preproc_italian_sentences.shape[-2], 1))\n",
        "#tmp_x = tmp_x.reshape((-1, preproc_english_sentences.shape[-2], 1))\n",
        "# Train the neural network\n",
        "print(len(preproc_italian_sentences))\n",
        "print(tmp_x.shape,preproc_italian_sentences.shape)\n",
        "simple_rnn_model_it = simple_modelit(\n",
        "    tmp_x.shape,\n",
        "    max_italian_sequence_length,\n",
        "    english_vocab_size,\n",
        "    italian_vocab_size)\n",
        "simple_rnn_model_it.fit(tmp_x, preproc_italian_sentences, epochs=2, validation_split=0.2)\n",
        "# Print prediction(s)\n",
        "print(logits_to_text(simple_rnn_model_it.predict(tmp_x[:1])[0], italian_tokenizer))\n",
        "simple_rnn_model_it.save('simple_rnn_model_it.h5')"
      ]
    },
    {
      "cell_type": "code",
      "execution_count": 20,
      "metadata": {
        "colab": {
          "base_uri": "https://localhost:8080/"
        },
        "id": "H8xhz26TssGf",
        "outputId": "9c6b2b5c-f6e7-4c65-ad1a-266db5abe8c3"
      },
      "outputs": [
        {
          "name": "stdout",
          "output_type": "stream",
          "text": [
            "260435\n",
            "(260435, 77, 1) (260435, 77, 1)\n",
            "Epoch 1/2\n",
            "6511/6511 [==============================] - 678s 104ms/step - loss: 0.5881 - accuracy: 0.9318 - val_loss: nan - val_accuracy: 0.8782\n",
            "Epoch 2/2\n",
            "6511/6511 [==============================] - 643s 99ms/step - loss: 0.4770 - accuracy: 0.9327 - val_loss: nan - val_accuracy: 0.8782\n"
          ]
        },
        {
          "name": "stderr",
          "output_type": "stream",
          "text": [
            "WARNING:tensorflow:5 out of the last 5 calls to <function Model.make_predict_function.<locals>.predict_function at 0x7fd97660d940> triggered tf.function retracing. Tracing is expensive and the excessive number of tracings could be due to (1) creating @tf.function repeatedly in a loop, (2) passing tensors with different shapes, (3) passing Python objects instead of tensors. For (1), please define your @tf.function outside of the loop. For (2), @tf.function has reduce_retracing=True option that can avoid unnecessary retracing. For (3), please refer to https://www.tensorflow.org/guide/function#controlling_retracing and https://www.tensorflow.org/api_docs/python/tf/function for  more details.\n"
          ]
        },
        {
          "name": "stdout",
          "output_type": "stream",
          "text": [
            "1/1 [==============================] - 0s 295ms/step\n",
            "ich ist nicht <PAD> <PAD> <PAD> <PAD> <PAD> <PAD> <PAD> <PAD> <PAD> <PAD> <PAD> <PAD> <PAD> <PAD> <PAD> <PAD> <PAD> <PAD> <PAD> <PAD> <PAD> <PAD> <PAD> <PAD> <PAD> <PAD> <PAD> <PAD> <PAD> <PAD> <PAD> <PAD> <PAD> <PAD> <PAD> <PAD> <PAD> <PAD> <PAD> <PAD> <PAD> <PAD> <PAD> <PAD> <PAD> <PAD> <PAD> <PAD> <PAD> <PAD> <PAD> <PAD> <PAD> <PAD> <PAD> <PAD> <PAD> <PAD> <PAD> <PAD> <PAD> <PAD> <PAD> <PAD> <PAD> <PAD> <PAD> <PAD> <PAD> <PAD> <PAD> <PAD> <PAD> <PAD>\n"
          ]
        }
      ],
      "source": [
        "def simple_modelsp(input_shape, output_sequence_length, english_vocab_size, spanish_vocab_size):\n",
        "    learning_rate = 1e-3\n",
        "    input_seq = Input(input_shape[1:])\n",
        "    rnn = GRU(64, return_sequences = True)(input_seq)\n",
        "    logits = TimeDistributed(Dense(spanish_vocab_size))(rnn)\n",
        "    model = Model(input_seq, Activation('softmax')(logits))\n",
        "    model.compile(loss = 'sparse_categorical_crossentropy', \n",
        "                 optimizer = Adam(learning_rate), \n",
        "                 metrics = ['accuracy'])\n",
        "    return model\n",
        "\n",
        "#tests.test_simple_model(simple_model)\n",
        "tmp_x = pad(preproc_english_sentences[:len(preproc_spanish_sentences)], max_spanish_sequence_length)\n",
        "tmp_x = tmp_x.reshape((-1, preproc_spanish_sentences.shape[-2], 1))\n",
        "#tmp_x = tmp_x.reshape((-1, preproc_english_sentences.shape[-2], 1))\n",
        "# Train the neural network\n",
        "print(len(preproc_spanish_sentences))\n",
        "print(tmp_x.shape,preproc_spanish_sentences.shape)\n",
        "simple_rnn_model_sp = simple_modelsp(\n",
        "    tmp_x.shape,\n",
        "    max_spanish_sequence_length,\n",
        "    english_vocab_size,\n",
        "    spanish_vocab_size)\n",
        "simple_rnn_model_sp.fit(tmp_x, preproc_spanish_sentences, epochs=2, validation_split=0.2)\n",
        "# Print prediction(s)\n",
        "print(logits_to_text(simple_rnn_model_sp.predict(tmp_x[:1])[0], spanish_tokenizer))\n",
        "simple_rnn_model_sp.save('simple_rnn_model_sp.h5')"
      ]
    },
    {
      "cell_type": "code",
      "execution_count": 22,
      "metadata": {
        "colab": {
          "base_uri": "https://localhost:8080/"
        },
        "id": "RGDdnVS-bq_5",
        "outputId": "f273e1d0-7297-4bb5-a56a-2d754f121ad1"
      },
      "outputs": [
        {
          "name": "stdout",
          "output_type": "stream",
          "text": [
            "Epoch 1/2\n",
            "5223/5223 [==============================] - 564s 108ms/step - loss: 0.8278 - accuracy: 0.8998 - val_loss: nan - val_accuracy: 0.8184\n",
            "Epoch 2/2\n",
            "5223/5223 [==============================] - 571s 109ms/step - loss: 0.7157 - accuracy: 0.9009 - val_loss: nan - val_accuracy: 0.8181\n"
          ]
        },
        {
          "name": "stderr",
          "output_type": "stream",
          "text": [
            "WARNING:tensorflow:6 out of the last 6 calls to <function Model.make_predict_function.<locals>.predict_function at 0x7fd975f37b80> triggered tf.function retracing. Tracing is expensive and the excessive number of tracings could be due to (1) creating @tf.function repeatedly in a loop, (2) passing tensors with different shapes, (3) passing Python objects instead of tensors. For (1), please define your @tf.function outside of the loop. For (2), @tf.function has reduce_retracing=True option that can avoid unnecessary retracing. For (3), please refer to https://www.tensorflow.org/guide/function#controlling_retracing and https://www.tensorflow.org/api_docs/python/tf/function for  more details.\n"
          ]
        },
        {
          "name": "stdout",
          "output_type": "stream",
          "text": [
            "1/1 [==============================] - 0s 317ms/step\n",
            "je ne pas <PAD> <PAD> <PAD> <PAD> <PAD> <PAD> <PAD> <PAD> <PAD> <PAD> <PAD> <PAD> <PAD> <PAD> <PAD> <PAD> <PAD> <PAD> <PAD> <PAD> <PAD> <PAD> <PAD> <PAD> <PAD> <PAD> <PAD> <PAD> <PAD> <PAD> <PAD> <PAD> <PAD> <PAD> <PAD> <PAD> <PAD> <PAD> <PAD> <PAD> <PAD> <PAD> <PAD> <PAD> <PAD> <PAD> <PAD> <PAD> <PAD> <PAD> <PAD> <PAD>\n"
          ]
        }
      ],
      "source": [
        "from keras.models import Sequential\n",
        "def embed_modelfr(input_shape, output_sequence_length, english_vocab_size, french_vocab_size):\n",
        "    learning_rate = 1e-3\n",
        "    rnn = GRU(64, return_sequences=True, activation=\"tanh\")\n",
        "    \n",
        "    embedding = Embedding(french_vocab_size, 64, input_length=input_shape[1]) \n",
        "    logits = TimeDistributed(Dense(french_vocab_size, activation=\"softmax\"))\n",
        "    \n",
        "    model = Sequential()\n",
        "    #em can only be used in first layer --> Keras Documentation\n",
        "    model.add(embedding)\n",
        "    model.add(rnn)\n",
        "    model.add(logits)\n",
        "    model.compile(loss=sparse_categorical_crossentropy,\n",
        "                  optimizer=Adam(learning_rate),\n",
        "                  metrics=['accuracy'])\n",
        "    \n",
        "    return model\n",
        "#tests.test_embed_model(embed_model)\n",
        "# tmp_x = pad(preproc_english_sentences, max_french_sequence_length)\n",
        "# tmp_x = tmp_x.reshape((-1, preproc_french_sentences.shape[-2]))\n",
        "tmp_x = pad(preproc_english_sentences[:len(preproc_french_sentences)], max_french_sequence_length)\n",
        "tmp_x = tmp_x.reshape((-1, preproc_french_sentences.shape[-2], 1))\n",
        "embeded_model_fr = embed_modelfr(\n",
        "    tmp_x.shape,\n",
        "    max_french_sequence_length,\n",
        "    english_vocab_size,\n",
        "    french_vocab_size)\n",
        "embeded_model_fr.fit(tmp_x, preproc_french_sentences, epochs=2, validation_split=0.2)\n",
        "print(logits_to_text(embeded_model_fr.predict(tmp_x[:1])[0], french_tokenizer))\n",
        "embeded_model_fr.save('embeded_model_fr.h5')"
      ]
    },
    {
      "cell_type": "code",
      "execution_count": 23,
      "metadata": {
        "colab": {
          "base_uri": "https://localhost:8080/"
        },
        "id": "MawRWfP-4rUr",
        "outputId": "bdbca65b-6da6-4cc5-de29-081c04d7bb70"
      },
      "outputs": [
        {
          "name": "stdout",
          "output_type": "stream",
          "text": [
            "Epoch 1/2\n",
            "9105/9105 [==============================] - 1217s 133ms/step - loss: 0.4140 - accuracy: 0.9504 - val_loss: nan - val_accuracy: 0.9158\n",
            "Epoch 2/2\n",
            "9105/9105 [==============================] - 1217s 134ms/step - loss: 0.3563 - accuracy: 0.9508 - val_loss: nan - val_accuracy: 0.9156\n",
            "1/1 [==============================] - 0s 323ms/step\n",
            "tom è <PAD> <PAD> <PAD> <PAD> <PAD> <PAD> <PAD> <PAD> <PAD> <PAD> <PAD> <PAD> <PAD> <PAD> <PAD> <PAD> <PAD> <PAD> <PAD> <PAD> <PAD> <PAD> <PAD> <PAD> <PAD> <PAD> <PAD> <PAD> <PAD> <PAD> <PAD> <PAD> <PAD> <PAD> <PAD> <PAD> <PAD> <PAD> <PAD> <PAD> <PAD> <PAD> <PAD> <PAD> <PAD> <PAD> <PAD> <PAD> <PAD> <PAD> <PAD> <PAD> <PAD> <PAD> <PAD> <PAD> <PAD> <PAD> <PAD> <PAD> <PAD> <PAD> <PAD> <PAD> <PAD> <PAD> <PAD> <PAD> <PAD> <PAD> <PAD> <PAD> <PAD> <PAD> <PAD> <PAD> <PAD> <PAD> <PAD> <PAD> <PAD> <PAD> <PAD> <PAD> <PAD> <PAD> <PAD> <PAD> <PAD> <PAD>\n"
          ]
        }
      ],
      "source": [
        "from keras.models import Sequential\n",
        "def embed_modelde(input_shape, output_sequence_length, english_vocab_size, german_vocab_size):\n",
        "    learning_rate = 1e-3\n",
        "    rnn = GRU(64, return_sequences=True, activation=\"tanh\")\n",
        "    \n",
        "    embedding = Embedding(german_vocab_size, 64, input_length=input_shape[1]) \n",
        "    logits = TimeDistributed(Dense(german_vocab_size, activation=\"softmax\"))\n",
        "    \n",
        "    model = Sequential()\n",
        "    #em can only be used in first layer --> Keras Documentation\n",
        "    model.add(embedding)\n",
        "    model.add(rnn)\n",
        "    model.add(logits)\n",
        "    model.compile(loss=sparse_categorical_crossentropy,\n",
        "                  optimizer=Adam(learning_rate),\n",
        "                  metrics=['accuracy'])\n",
        "    \n",
        "    return model\n",
        "#tests.test_embed_model(embed_model)\n",
        "# tmp_x = pad(preproc_english_sentences, max_french_sequence_length)\n",
        "# tmp_x = tmp_x.reshape((-1, preproc_french_sentences.shape[-2]))\n",
        "tmp_x = pad(preproc_english_sentences[:len(preproc_german_sentences)], max_german_sequence_length)\n",
        "tmp_x = tmp_x.reshape((-1, preproc_german_sentences.shape[-2], 1))\n",
        "embeded_model_de = embed_modelde(\n",
        "    tmp_x.shape,\n",
        "    max_german_sequence_length,\n",
        "    english_vocab_size,\n",
        "    german_vocab_size)\n",
        "embeded_model_de.fit(tmp_x, preproc_german_sentences, epochs=2, validation_split=0.2)\n",
        "print(logits_to_text(embeded_model_de.predict(tmp_x[:1])[0], german_tokenizer))\n",
        "embeded_model_de.save('embeded_model_de.h5')"
      ]
    },
    {
      "cell_type": "code",
      "execution_count": 25,
      "metadata": {
        "colab": {
          "base_uri": "https://localhost:8080/"
        },
        "id": "WWFnUpnIDFHU",
        "outputId": "dd47adb3-0236-432e-ed11-52f67c0b5e92"
      },
      "outputs": [
        {
          "name": "stdout",
          "output_type": "stream",
          "text": [
            "Epoch 1/2\n",
            "6511/6511 [==============================] - 1011s 155ms/step - loss: 0.5714 - accuracy: 0.9319 - val_loss: nan - val_accuracy: 0.8782\n",
            "Epoch 2/2\n",
            "6511/6511 [==============================] - 1012s 155ms/step - loss: 0.4805 - accuracy: 0.9326 - val_loss: nan - val_accuracy: 0.8782\n",
            "1/1 [==============================] - 0s 468ms/step\n",
            "ich ist nicht <PAD> <PAD> <PAD> <PAD> <PAD> <PAD> <PAD> <PAD> <PAD> <PAD> <PAD> <PAD> <PAD> <PAD> <PAD> <PAD> <PAD> <PAD> <PAD> <PAD> <PAD> <PAD> <PAD> <PAD> <PAD> <PAD> <PAD> <PAD> <PAD> <PAD> <PAD> <PAD> <PAD> <PAD> <PAD> <PAD> <PAD> <PAD> <PAD> <PAD> <PAD> <PAD> <PAD> <PAD> <PAD> <PAD> <PAD> <PAD> <PAD> <PAD> <PAD> <PAD> <PAD> <PAD> <PAD> <PAD> <PAD> <PAD> <PAD> <PAD> <PAD> <PAD> <PAD> <PAD> <PAD> <PAD> <PAD> <PAD> <PAD> <PAD> <PAD> <PAD> <PAD> <PAD>\n"
          ]
        }
      ],
      "source": [
        "from keras.models import Sequential\n",
        "def embed_modelsp(input_shape, output_sequence_length, english_vocab_size, spanish_vocab_size):\n",
        "    learning_rate = 1e-3\n",
        "    rnn = GRU(64, return_sequences=True, activation=\"tanh\")\n",
        "    \n",
        "    embedding = Embedding(spanish_vocab_size, 64, input_length=input_shape[1]) \n",
        "    logits = TimeDistributed(Dense(spanish_vocab_size, activation=\"softmax\"))\n",
        "    \n",
        "    model = Sequential()\n",
        "    #em can only be used in first layer --> Keras Documentation\n",
        "    model.add(embedding)\n",
        "    model.add(rnn)\n",
        "    model.add(logits)\n",
        "    model.compile(loss=sparse_categorical_crossentropy,\n",
        "                  optimizer=Adam(learning_rate),\n",
        "                  metrics=['accuracy'])\n",
        "    \n",
        "    return model\n",
        "#tests.test_embed_model(embed_model)\n",
        "# tmp_x = pad(preproc_english_sentences, max_french_sequence_length)\n",
        "# tmp_x = tmp_x.reshape((-1, preproc_french_sentences.shape[-2]))\n",
        "tmp_x = pad(preproc_english_sentences[:len(preproc_spanish_sentences)], max_spanish_sequence_length)\n",
        "tmp_x = tmp_x.reshape((-1, preproc_spanish_sentences.shape[-2], 1))\n",
        "embeded_model_sp = embed_modelsp(\n",
        "    tmp_x.shape,\n",
        "    max_spanish_sequence_length,\n",
        "    english_vocab_size,\n",
        "    spanish_vocab_size)\n",
        "embeded_model_sp.fit(tmp_x, preproc_spanish_sentences, epochs=2, validation_split=0.2)\n",
        "print(logits_to_text(embeded_model_sp.predict(tmp_x[:1])[0], spanish_tokenizer))\n",
        "embeded_model_sp.save('embeded_model_sp.h5')"
      ]
    },
    {
      "cell_type": "code",
      "execution_count": 26,
      "metadata": {
        "colab": {
          "base_uri": "https://localhost:8080/"
        },
        "id": "P_asO_zZGFVO",
        "outputId": "f40e9fab-fc88-405e-d0f7-4db96fd1ae38"
      },
      "outputs": [
        {
          "name": "stdout",
          "output_type": "stream",
          "text": [
            "Epoch 1/2\n",
            "3493/3493 [==============================] - 420s 110ms/step - loss: 0.6939 - accuracy: 0.9260 - val_loss: nan - val_accuracy: 0.8607\n",
            "Epoch 2/2\n",
            "3493/3493 [==============================] - 416s 119ms/step - loss: 0.5435 - accuracy: 0.9273 - val_loss: nan - val_accuracy: 0.8607\n",
            "1/1 [==============================] - 0s 312ms/step\n",
            "tom es <PAD> <PAD> <PAD> <PAD> <PAD> <PAD> <PAD> <PAD> <PAD> <PAD> <PAD> <PAD> <PAD> <PAD> <PAD> <PAD> <PAD> <PAD> <PAD> <PAD> <PAD> <PAD> <PAD> <PAD> <PAD> <PAD> <PAD> <PAD> <PAD> <PAD> <PAD> <PAD> <PAD> <PAD> <PAD> <PAD> <PAD> <PAD> <PAD> <PAD> <PAD> <PAD> <PAD> <PAD> <PAD> <PAD> <PAD> <PAD> <PAD> <PAD> <PAD> <PAD> <PAD> <PAD> <PAD> <PAD> <PAD> <PAD> <PAD> <PAD> <PAD> <PAD> <PAD> <PAD> <PAD> <PAD>\n"
          ]
        }
      ],
      "source": [
        "from keras.models import Sequential\n",
        "def embed_modelit(input_shape, output_sequence_length, english_vocab_size, italian_vocab_size):\n",
        "    learning_rate = 1e-3\n",
        "    rnn = GRU(64, return_sequences=True, activation=\"tanh\")\n",
        "    \n",
        "    embedding = Embedding(italian_vocab_size, 64, input_length=input_shape[1]) \n",
        "    logits = TimeDistributed(Dense(italian_vocab_size, activation=\"softmax\"))\n",
        "    \n",
        "    model = Sequential()\n",
        "    #em can only be used in first layer --> Keras Documentation\n",
        "    model.add(embedding)\n",
        "    model.add(rnn)\n",
        "    model.add(logits)\n",
        "    model.compile(loss=sparse_categorical_crossentropy,\n",
        "                  optimizer=Adam(learning_rate),\n",
        "                  metrics=['accuracy'])\n",
        "    \n",
        "    return model\n",
        "#tests.test_embed_model(embed_model)\n",
        "# tmp_x = pad(preproc_english_sentences, max_french_sequence_length)\n",
        "# tmp_x = tmp_x.reshape((-1, preproc_french_sentences.shape[-2]))\n",
        "tmp_x = pad(preproc_english_sentences[:len(preproc_italian_sentences)], max_italian_sequence_length)\n",
        "tmp_x = tmp_x.reshape((-1, preproc_italian_sentences.shape[-2], 1))\n",
        "embeded_model_it = embed_modelit(\n",
        "    tmp_x.shape,\n",
        "    max_italian_sequence_length,\n",
        "    english_vocab_size,\n",
        "    italian_vocab_size)\n",
        "embeded_model_it.fit(tmp_x, preproc_italian_sentences, epochs=2, validation_split=0.2)\n",
        "print(logits_to_text(embeded_model_it.predict(tmp_x[:1])[0], italian_tokenizer))\n",
        "embeded_model_it.save('embeded_model_it.h5')"
      ]
    },
    {
      "cell_type": "code",
      "execution_count": null,
      "metadata": {
        "colab": {
          "base_uri": "https://localhost:8080/"
        },
        "id": "7dKvi9Hfcw-V",
        "outputId": "b9b747f4-0413-42b1-9212-b0eee64db03e"
      },
      "outputs": [
        {
          "name": "stdout",
          "output_type": "stream",
          "text": [
            "Epoch 1/2\n",
            "1592/5223 [========>.....................] - ETA: 6:42 - loss: 0.9033 - accuracy: 0.8987"
          ]
        }
      ],
      "source": [
        "def bd_modelfr(input_shape, output_sequence_length, english_vocab_size, french_vocab_size):\n",
        "   \n",
        "    learning_rate = 1e-3\n",
        "    model = Sequential()\n",
        "    model.add(Bidirectional(GRU(128, return_sequences = True, dropout = 0.1), \n",
        "                           input_shape = input_shape[1:]))\n",
        "    model.add(TimeDistributed(Dense(french_vocab_size, activation = 'softmax')))\n",
        "    model.compile(loss = sparse_categorical_crossentropy, \n",
        "                 optimizer = Adam(learning_rate), \n",
        "                 metrics = ['accuracy'])\n",
        "    return model\n",
        "#tests.test_bd_model(bd_model)\n",
        "#tmp_x = pad(preproc_english_sentences, preproc_french_sentences.shape[1])\n",
        "# tmp_x = tmp_x.reshape((-1, preproc_french_sentences.shape[-2], 1))\n",
        "tmp_x = pad(preproc_english_sentences[:len(preproc_french_sentences)],  preproc_french_sentences.shape[1])\n",
        "tmp_x = tmp_x.reshape((-1, preproc_french_sentences.shape[-2], 1))\n",
        "bidi_model_fr = bd_modelfr(\n",
        "    tmp_x.shape,\n",
        "    preproc_french_sentences.shape[1],\n",
        "    len(english_tokenizer.word_index)+1,\n",
        "    len(french_tokenizer.word_index)+1)\n",
        "bidi_model_fr.fit(tmp_x, preproc_french_sentences,epochs=2, validation_split=0.2)\n",
        "# Print prediction(s)\n",
        "print(logits_to_text(bidi_model_fr.predict(tmp_x[:1])[0], french_tokenizer))\n",
        "bidi_model_fr.save('bidi_model_fr.h5')"
      ]
    },
    {
      "cell_type": "code",
      "execution_count": null,
      "metadata": {
        "id": "bKnWLQLWMcpK"
      },
      "outputs": [],
      "source": [
        "def bd_modelit(input_shape, output_sequence_length, english_vocab_size, italian_vocab_size):\n",
        "   \n",
        "    learning_rate = 1e-3\n",
        "    model = Sequential()\n",
        "    model.add(Bidirectional(GRU(128, return_sequences = True, dropout = 0.1), \n",
        "                           input_shape = input_shape[1:]))\n",
        "    model.add(TimeDistributed(Dense(italian_vocab_size, activation = 'softmax')))\n",
        "    model.compile(loss = sparse_categorical_crossentropy, \n",
        "                 optimizer = Adam(learning_rate), \n",
        "                 metrics = ['accuracy'])\n",
        "    return model\n",
        "#tests.test_bd_model(bd_model)\n",
        "#tmp_x = pad(preproc_english_sentences, preproc_french_sentences.shape[1])\n",
        "# tmp_x = tmp_x.reshape((-1, preproc_french_sentences.shape[-2], 1))\n",
        "tmp_x = pad(preproc_english_sentences[:len(preproc_italian_sentences)],  preproc_italian_sentences.shape[1])\n",
        "tmp_x = tmp_x.reshape((-1, preproc_italian_sentences.shape[-2], 1))\n",
        "bidi_model_it = bd_modelit(\n",
        "    tmp_x.shape,\n",
        "    preproc_italian_sentences.shape[1],\n",
        "    len(english_tokenizer.word_index)+1,\n",
        "    len(italian_tokenizer.word_index)+1)\n",
        "bidi_model_it.fit(tmp_x, preproc_italian_sentences,epochs=2, validation_split=0.2)\n",
        "# Print prediction(s)\n",
        "print(logits_to_text(bidi_model_it.predict(tmp_x[:1])[0], italian_tokenizer))\n",
        "bidi_model_it.save('bidi_model_it.h5')"
      ]
    },
    {
      "cell_type": "code",
      "execution_count": null,
      "metadata": {
        "id": "7SxprukpM7Xc"
      },
      "outputs": [],
      "source": [
        "def bd_modelde(input_shape, output_sequence_length, english_vocab_size, german_vocab_size):\n",
        "   \n",
        "    learning_rate = 1e-3\n",
        "    model = Sequential()\n",
        "    model.add(Bidirectional(GRU(128, return_sequences = True, dropout = 0.1), \n",
        "                           input_shape = input_shape[1:]))\n",
        "    model.add(TimeDistributed(Dense(german_vocab_size, activation = 'softmax')))\n",
        "    model.compile(loss = sparse_categorical_crossentropy, \n",
        "                 optimizer = Adam(learning_rate), \n",
        "                 metrics = ['accuracy'])\n",
        "    return model\n",
        "#tests.test_bd_model(bd_model)\n",
        "#tmp_x = pad(preproc_english_sentences, preproc_french_sentences.shape[1])\n",
        "# tmp_x = tmp_x.reshape((-1, preproc_french_sentences.shape[-2], 1))\n",
        "tmp_x = pad(preproc_english_sentences[:len(preproc_german_sentences)],  preproc_german_sentences.shape[1])\n",
        "tmp_x = tmp_x.reshape((-1, preproc_german_sentences.shape[-2], 1))\n",
        "bidi_model_de = bd_modelde(\n",
        "    tmp_x.shape,\n",
        "    preproc_german_sentences.shape[1],\n",
        "    len(english_tokenizer.word_index)+1,\n",
        "    len(german_tokenizer.word_index)+1)\n",
        "bidi_model_de.fit(tmp_x, preproc_german_sentences,epochs=2, validation_split=0.2)\n",
        "# Print prediction(s)\n",
        "print(logits_to_text(bidi_model_de.predict(tmp_x[:1])[0], german_tokenizer))\n",
        "bidi_model_de.save('bidi_model_de.h5')"
      ]
    },
    {
      "cell_type": "code",
      "execution_count": null,
      "metadata": {
        "id": "QKqp2FlnNZXy"
      },
      "outputs": [],
      "source": [
        "def bd_modelsp(input_shape, output_sequence_length, english_vocab_size, spanish_vocab_size):\n",
        "   \n",
        "    learning_rate = 1e-3\n",
        "    model = Sequential()\n",
        "    model.add(Bidirectional(GRU(128, return_sequences = True, dropout = 0.1), \n",
        "                           input_shape = input_shape[1:]))\n",
        "    model.add(TimeDistributed(Dense(spanish_vocab_size, activation = 'softmax')))\n",
        "    model.compile(loss = sparse_categorical_crossentropy, \n",
        "                 optimizer = Adam(learning_rate), \n",
        "                 metrics = ['accuracy'])\n",
        "    return model\n",
        "#tests.test_bd_model(bd_model)\n",
        "#tmp_x = pad(preproc_english_sentences, preproc_french_sentences.shape[1])\n",
        "# tmp_x = tmp_x.reshape((-1, preproc_french_sentences.shape[-2], 1))\n",
        "tmp_x = pad(preproc_english_sentences[:len(preproc_spanish_sentences)],  preproc_spanish_sentences.shape[1])\n",
        "tmp_x = tmp_x.reshape((-1, preproc_spanish_sentences.shape[-2], 1))\n",
        "bidi_model_sp = bd_modelsp(\n",
        "    tmp_x.shape,\n",
        "    preproc_spanish_sentences.shape[1],\n",
        "    len(english_tokenizer.word_index)+1,\n",
        "    len(spanish_tokenizer.word_index)+1)\n",
        "bidi_model_sp.fit(tmp_x, preproc_spanish_sentences,epochs=2, validation_split=0.2)\n",
        "# Print prediction(s)\n",
        "print(logits_to_text(bidi_model_sp.predict(tmp_x[:1])[0], spanish_tokenizer))\n",
        "bidi_model_sp.save('bidi_model_sp.h5')"
      ]
    },
    {
      "cell_type": "code",
      "execution_count": null,
      "metadata": {
        "colab": {
          "base_uri": "https://localhost:8080/"
        },
        "id": "f9bRXLbffxTI",
        "outputId": "f6d4803c-374e-4240-8539-f17ba9467af8"
      },
      "outputs": [
        {
          "name": "stdout",
          "output_type": "stream",
          "text": [
            "Epoch 1/20\n",
            "90/90 [==============================] - 6s 31ms/step - loss: 3.0735 - accuracy: 0.4305 - val_loss: 2.4956 - val_accuracy: 0.4708\n",
            "Epoch 2/20\n",
            "90/90 [==============================] - 2s 24ms/step - loss: 2.3479 - accuracy: 0.4936 - val_loss: 2.2555 - val_accuracy: 0.4977\n",
            "Epoch 3/20\n",
            "90/90 [==============================] - 2s 23ms/step - loss: 2.1938 - accuracy: 0.5044 - val_loss: 2.1099 - val_accuracy: 0.5262\n",
            "Epoch 4/20\n",
            "90/90 [==============================] - 2s 23ms/step - loss: 1.9898 - accuracy: 0.5265 - val_loss: 1.8866 - val_accuracy: 0.5419\n",
            "Epoch 5/20\n",
            "90/90 [==============================] - 2s 27ms/step - loss: 1.8179 - accuracy: 0.5501 - val_loss: 1.7487 - val_accuracy: 0.5605\n",
            "Epoch 6/20\n",
            "90/90 [==============================] - 3s 32ms/step - loss: 1.7047 - accuracy: 0.5678 - val_loss: 1.6558 - val_accuracy: 0.5759\n",
            "Epoch 7/20\n",
            "90/90 [==============================] - 2s 24ms/step - loss: 1.6244 - accuracy: 0.5753 - val_loss: 1.5862 - val_accuracy: 0.5800\n",
            "Epoch 8/20\n",
            "90/90 [==============================] - 2s 24ms/step - loss: 1.5592 - accuracy: 0.5857 - val_loss: 1.5238 - val_accuracy: 0.5919\n",
            "Epoch 9/20\n",
            "90/90 [==============================] - 2s 23ms/step - loss: 1.5050 - accuracy: 0.5979 - val_loss: 1.4792 - val_accuracy: 0.6034\n",
            "Epoch 10/20\n",
            "90/90 [==============================] - 2s 24ms/step - loss: 1.4629 - accuracy: 0.6060 - val_loss: 1.4819 - val_accuracy: 0.5908\n",
            "Epoch 11/20\n",
            "90/90 [==============================] - 2s 24ms/step - loss: 1.4293 - accuracy: 0.6136 - val_loss: 1.4365 - val_accuracy: 0.6076\n",
            "Epoch 12/20\n",
            "90/90 [==============================] - 2s 23ms/step - loss: 1.3951 - accuracy: 0.6204 - val_loss: 1.3798 - val_accuracy: 0.6232\n",
            "Epoch 13/20\n",
            "90/90 [==============================] - 2s 25ms/step - loss: 1.3703 - accuracy: 0.6245 - val_loss: 1.3669 - val_accuracy: 0.6222\n",
            "Epoch 14/20\n",
            "90/90 [==============================] - 2s 23ms/step - loss: 1.3472 - accuracy: 0.6278 - val_loss: 1.3441 - val_accuracy: 0.6266\n",
            "Epoch 15/20\n",
            "90/90 [==============================] - 2s 23ms/step - loss: 1.3279 - accuracy: 0.6309 - val_loss: 1.3133 - val_accuracy: 0.6335\n",
            "Epoch 16/20\n",
            "90/90 [==============================] - 2s 25ms/step - loss: 1.3075 - accuracy: 0.6339 - val_loss: 1.2990 - val_accuracy: 0.6349\n",
            "Epoch 17/20\n",
            "90/90 [==============================] - 2s 23ms/step - loss: 1.2914 - accuracy: 0.6371 - val_loss: 1.2835 - val_accuracy: 0.6396\n",
            "Epoch 18/20\n",
            "90/90 [==============================] - 2s 24ms/step - loss: 1.2758 - accuracy: 0.6399 - val_loss: 1.2684 - val_accuracy: 0.6418\n",
            "Epoch 19/20\n",
            "90/90 [==============================] - 2s 24ms/step - loss: 1.2776 - accuracy: 0.6387 - val_loss: 1.2885 - val_accuracy: 0.6358\n",
            "Epoch 20/20\n",
            "90/90 [==============================] - 2s 24ms/step - loss: 1.2577 - accuracy: 0.6429 - val_loss: 1.2477 - val_accuracy: 0.6447\n",
            "1/1 [==============================] - 1s 805ms/step\n",
            "new jersey est jamais agréable en mois mais il est est en en <PAD> <PAD> <PAD> <PAD> <PAD> <PAD> <PAD> <PAD>\n"
          ]
        }
      ],
      "source": [
        "def encdec_modelfr(input_shape, output_sequence_length, english_vocab_size, french_vocab_size):\n",
        "  \n",
        "    learning_rate = 1e-3\n",
        "    model = Sequential()\n",
        "    model.add(GRU(128, input_shape = input_shape[1:], return_sequences = False))\n",
        "    model.add(RepeatVector(output_sequence_length))\n",
        "    model.add(GRU(128, return_sequences = True))\n",
        "    model.add(TimeDistributed(Dense(french_vocab_size, activation = 'softmax')))\n",
        "    \n",
        "    model.compile(loss = sparse_categorical_crossentropy, \n",
        "                 optimizer = Adam(learning_rate), \n",
        "                 metrics = ['accuracy'])\n",
        "    return model\n",
        "#tests.test_encdec_model(encdec_model)\n",
        "tmp_x = pad(preproc_english_sentences[:len(preproc_french_sentences)])\n",
        "tmp_x = tmp_x.reshape((-1, preproc_english_sentences.shape[1], 1))\n",
        "encodeco_model_fr = encdec_modelfr(\n",
        "    tmp_x.shape,\n",
        "    preproc_french_sentences.shape[1],\n",
        "    len(english_tokenizer.word_index)+1,\n",
        "    len(french_tokenizer.word_index)+1)\n",
        "encodeco_model_fr.fit(tmp_x, preproc_french_sentences, batch_size=1024, epochs=20, validation_split=0.2)\n",
        "print(logits_to_text(encodeco_model_fr.predict(tmp_x[:1])[0], french_tokenizer))\n",
        "encodeco_model_fr.save('encodeco_model_fr.h5')"
      ]
    },
    {
      "cell_type": "code",
      "execution_count": null,
      "metadata": {
        "id": "h8t29IPwOJ9Q"
      },
      "outputs": [],
      "source": [
        "def encdec_modelsp(input_shape, output_sequence_length, english_vocab_size, spanish_vocab_size):\n",
        "  \n",
        "    learning_rate = 1e-3\n",
        "    model = Sequential()\n",
        "    model.add(GRU(128, input_shape = input_shape[1:], return_sequences = False))\n",
        "    model.add(RepeatVector(output_sequence_length))\n",
        "    model.add(GRU(128, return_sequences = True))\n",
        "    model.add(TimeDistributed(Dense(spanish_vocab_size, activation = 'softmax')))\n",
        "    \n",
        "    model.compile(loss = sparse_categorical_crossentropy, \n",
        "                 optimizer = Adam(learning_rate), \n",
        "                 metrics = ['accuracy'])\n",
        "    return model\n",
        "#tests.test_encdec_model(encdec_model)\n",
        "tmp_x = pad(preproc_english_sentences[:len(preproc_spanish_sentences)])\n",
        "tmp_x = tmp_x.reshape((-1, preproc_english_sentences.shape[1], 1))\n",
        "encodeco_model_sp = encdec_modelsp(\n",
        "    tmp_x.shape,\n",
        "    preproc_spanish_sentences.shape[1],\n",
        "    len(english_tokenizer.word_index)+1,\n",
        "    len(spanish_tokenizer.word_index)+1)\n",
        "encodeco_model_sp.fit(tmp_x, preproc_spanish_sentences, batch_size=1024, epochs=20, validation_split=0.2)\n",
        "print(logits_to_text(encodeco_model_sp.predict(tmp_x[:1])[0], spanish_tokenizer))\n",
        "encodeco_model_sp.save('encodeco_model_sp.h5')"
      ]
    },
    {
      "cell_type": "code",
      "execution_count": null,
      "metadata": {
        "id": "oNBlsdLPPFqG"
      },
      "outputs": [],
      "source": [
        "def encdec_modelde(input_shape, output_sequence_length, english_vocab_size, german_vocab_size):\n",
        "  \n",
        "    learning_rate = 1e-3\n",
        "    model = Sequential()\n",
        "    model.add(GRU(128, input_shape = input_shape[1:], return_sequences = False))\n",
        "    model.add(RepeatVector(output_sequence_length))\n",
        "    model.add(GRU(128, return_sequences = True))\n",
        "    model.add(TimeDistributed(Dense(german_vocab_size, activation = 'softmax')))\n",
        "    \n",
        "    model.compile(loss = sparse_categorical_crossentropy, \n",
        "                 optimizer = Adam(learning_rate), \n",
        "                 metrics = ['accuracy'])\n",
        "    return model\n",
        "#tests.test_encdec_model(encdec_model)\n",
        "tmp_x = pad(preproc_english_sentences[:len(preproc_german_sentences)])\n",
        "tmp_x = tmp_x.reshape((-1, preproc_english_sentences.shape[1], 1))\n",
        "encodeco_model_de = encdec_modelde(\n",
        "    tmp_x.shape,\n",
        "    preproc_german_sentences.shape[1],\n",
        "    len(english_tokenizer.word_index)+1,\n",
        "    len(german_tokenizer.word_index)+1)\n",
        "encodeco_model_de.fit(tmp_x, preproc_german_sentences, batch_size=1024, epochs=20, validation_split=0.2)\n",
        "print(logits_to_text(encodeco_model_de.predict(tmp_x[:1])[0], german_tokenizer))\n",
        "encodeco_model_de.save('encodeco_model_de.h5')"
      ]
    },
    {
      "cell_type": "code",
      "execution_count": null,
      "metadata": {
        "id": "L9M5RzJ4OtIT"
      },
      "outputs": [],
      "source": [
        "def encdec_modelit(input_shape, output_sequence_length, english_vocab_size, italian_vocab_size):\n",
        "  \n",
        "    learning_rate = 1e-3\n",
        "    model = Sequential()\n",
        "    model.add(GRU(128, input_shape = input_shape[1:], return_sequences = False))\n",
        "    model.add(RepeatVector(output_sequence_length))\n",
        "    model.add(GRU(128, return_sequences = True))\n",
        "    model.add(TimeDistributed(Dense(italian_vocab_size, activation = 'softmax')))\n",
        "    \n",
        "    model.compile(loss = sparse_categorical_crossentropy, \n",
        "                 optimizer = Adam(learning_rate), \n",
        "                 metrics = ['accuracy'])\n",
        "    return model\n",
        "#tests.test_encdec_model(encdec_model)\n",
        "tmp_x = pad(preproc_english_sentences[:len(preproc_italian_sentences)])\n",
        "tmp_x = tmp_x.reshape((-1, preproc_english_sentences.shape[1], 1))\n",
        "encodeco_model_it = encdec_modelit(\n",
        "    tmp_x.shape,\n",
        "    preproc_italian_sentences.shape[1],\n",
        "    len(english_tokenizer.word_index)+1,\n",
        "    len(italian_tokenizer.word_index)+1)\n",
        "encodeco_model_it.fit(tmp_x, preproc_italian_sentences, batch_size=1024, epochs=20, validation_split=0.2)\n",
        "print(logits_to_text(encodeco_model_it.predict(tmp_x[:1])[0], italian_tokenizer))\n",
        "encodeco_model_it.save('encodeco_model_it.h5')"
      ]
    },
    {
      "cell_type": "code",
      "execution_count": null,
      "metadata": {
        "colab": {
          "base_uri": "https://localhost:8080/"
        },
        "id": "Dz1p-OzkhAS9",
        "outputId": "9feedb82-2927-4246-8236-031a4a221252"
      },
      "outputs": [
        {
          "name": "stdout",
          "output_type": "stream",
          "text": [
            "Final Model Loaded\n"
          ]
        }
      ],
      "source": [
        "def model_finalfr(input_shape, output_sequence_length, english_vocab_size, french_vocab_size):\n",
        "  \n",
        "    model = Sequential()\n",
        "    model.add(Embedding(input_dim=english_vocab_size,output_dim=128,input_length=input_shape[1]))\n",
        "    model.add(Bidirectional(GRU(256,return_sequences=False)))\n",
        "    model.add(RepeatVector(output_sequence_length))\n",
        "    model.add(Bidirectional(GRU(256,return_sequences=True)))\n",
        "    model.add(TimeDistributed(Dense(french_vocab_size,activation='softmax')))\n",
        "    learning_rate = 0.005\n",
        "    \n",
        "    model.compile(loss = sparse_categorical_crossentropy, \n",
        "                 optimizer = Adam(learning_rate), \n",
        "                 metrics = ['accuracy'])\n",
        "    \n",
        "    return model\n",
        "#tests.test_model_final(model_final)\n",
        "print('Final Model Loaded')"
      ]
    },
    {
      "cell_type": "code",
      "execution_count": null,
      "metadata": {
        "id": "xYjmr5bePvl2"
      },
      "outputs": [],
      "source": [
        "def model_finalde(input_shape, output_sequence_length, english_vocab_size, german_vocab_size):\n",
        "  \n",
        "    model = Sequential()\n",
        "    model.add(Embedding(input_dim=english_vocab_size,output_dim=128,input_length=input_shape[1]))\n",
        "    model.add(Bidirectional(GRU(256,return_sequences=False)))\n",
        "    model.add(RepeatVector(output_sequence_length))\n",
        "    model.add(Bidirectional(GRU(256,return_sequences=True)))\n",
        "    model.add(TimeDistributed(Dense(german_vocab_size,activation='softmax')))\n",
        "    learning_rate = 0.005\n",
        "    \n",
        "    model.compile(loss = sparse_categorical_crossentropy, \n",
        "                 optimizer = Adam(learning_rate), \n",
        "                 metrics = ['accuracy'])\n",
        "    \n",
        "    return model\n",
        "#tests.test_model_final(model_final)\n",
        "print('Final Model Loaded')"
      ]
    },
    {
      "cell_type": "code",
      "execution_count": null,
      "metadata": {
        "id": "d7DgtbK0P1z4"
      },
      "outputs": [],
      "source": [
        "def model_finalsp(input_shape, output_sequence_length, english_vocab_size, spanish_vocab_size):\n",
        "  \n",
        "    model = Sequential()\n",
        "    model.add(Embedding(input_dim=english_vocab_size,output_dim=128,input_length=input_shape[1]))\n",
        "    model.add(Bidirectional(GRU(256,return_sequences=False)))\n",
        "    model.add(RepeatVector(output_sequence_length))\n",
        "    model.add(Bidirectional(GRU(256,return_sequences=True)))\n",
        "    model.add(TimeDistributed(Dense(spanish_vocab_size,activation='softmax')))\n",
        "    learning_rate = 0.005\n",
        "    \n",
        "    model.compile(loss = sparse_categorical_crossentropy, \n",
        "                 optimizer = Adam(learning_rate), \n",
        "                 metrics = ['accuracy'])\n",
        "    \n",
        "    return model\n",
        "#tests.test_model_final(model_final)\n",
        "print('Final Model Loaded')"
      ]
    },
    {
      "cell_type": "code",
      "execution_count": null,
      "metadata": {
        "id": "wmTC3xk9PpZ3"
      },
      "outputs": [],
      "source": [
        "def model_finalit(input_shape, output_sequence_length, english_vocab_size, italian_vocab_size):\n",
        "  \n",
        "    model = Sequential()\n",
        "    model.add(Embedding(input_dim=english_vocab_size,output_dim=128,input_length=input_shape[1]))\n",
        "    model.add(Bidirectional(GRU(256,return_sequences=False)))\n",
        "    model.add(RepeatVector(output_sequence_length))\n",
        "    model.add(Bidirectional(GRU(256,return_sequences=True)))\n",
        "    model.add(TimeDistributed(Dense(italian_vocab_size,activation='softmax')))\n",
        "    learning_rate = 0.005\n",
        "    \n",
        "    model.compile(loss = sparse_categorical_crossentropy, \n",
        "                 optimizer = Adam(learning_rate), \n",
        "                 metrics = ['accuracy'])\n",
        "    \n",
        "    return model\n",
        "#tests.test_model_final(model_final)\n",
        "print('Final Model Loaded')"
      ]
    },
    {
      "cell_type": "code",
      "execution_count": null,
      "metadata": {
        "colab": {
          "base_uri": "https://localhost:8080/"
        },
        "id": "yJCXZMfThHB_",
        "outputId": "a71cfede-957f-4ad5-d943-38a177e689fe"
      },
      "outputs": [
        {
          "name": "stdout",
          "output_type": "stream",
          "text": [
            "Epoch 1/2\n",
            "2851/2851 [==============================] - 34s 10ms/step - loss: 0.5979 - accuracy: 0.8309 - val_loss: 0.3783 - val_accuracy: 0.8850\n",
            "Epoch 2/2\n",
            "2851/2851 [==============================] - 28s 10ms/step - loss: 0.4965 - accuracy: 0.8512 - val_loss: 0.5604 - val_accuracy: 0.8306\n",
            "1/1 [==============================] - 1s 1s/step\n",
            "Sample 1:\n",
            "il a vu un camion camion camion <PAD> <PAD> <PAD> <PAD> <PAD> <PAD> <PAD> <PAD> <PAD> <PAD> <PAD> <PAD> <PAD> <PAD>\n",
            "Il a vu un vieux camion jaune\n",
            "Sample 2:\n",
            "new jersey est parfois calme pendant cours et il est il est est en en <PAD> <PAD> <PAD> <PAD> <PAD> <PAD>\n",
            "june fall is sometimes quiet winter favorite france but it is yellow in freezing <PAD> <PAD> <PAD> <PAD> <PAD> <PAD> <PAD>\n"
          ]
        }
      ],
      "source": [
        "def final_predictions(x, y, a, b, z, x_tk, y_tk, a_tk, b_tk, z_tk):\n",
        "    tmp_X = pad(preproc_english_sentences[:len(preproc_french_sentences)])\n",
        "    modelfr = model_finalfr(tmp_X.shape,\n",
        "                        preproc_french_sentences.shape[1],\n",
        "                        len(english_tokenizer.word_index)+1,\n",
        "                        len(french_tokenizer.word_index)+1)\n",
        "    modelde = model_finalde(tmp_X.shape,\n",
        "                        preproc_german_sentences.shape[1],\n",
        "                        len(english_tokenizer.word_index)+1,\n",
        "                        len(german_tokenizer.word_index)+1)\n",
        "    modelit = model_finalit(tmp_X.shape,\n",
        "                        preproc_italian_sentences.shape[1],\n",
        "                        len(english_tokenizer.word_index)+1,\n",
        "                        len(italian_tokenizer.word_index)+1)\n",
        "    modelsp = model_finalsp(tmp_X.shape,\n",
        "                        preproc_spanish_sentences.shape[1],\n",
        "                        len(english_tokenizer.word_index)+1,\n",
        "                        len(spanish_tokenizer.word_index)+1)\n",
        "    \n",
        "    modelfr.fit(tmp_X, preproc_french_sentences, epochs = 2, validation_split = 0.2)\n",
        "    modelde.fit(tmp_X, preproc_german_sentences, epochs = 2, validation_split = 0.2)\n",
        "    modelit.fit(tmp_X, preproc_italian_sentences, epochs = 2, validation_split = 0.2)\n",
        "    modelsp.fit(tmp_X, preproc_spanish_sentences, epochs = 2, validation_split = 0.2)\n",
        "    modelfr.save('modelfr.h5')\n",
        "    modelit.save('modelit.h5')\n",
        "    modelde.save('modelde.h5')\n",
        "    modelsp.save('modelsp.h5')\n",
        " \n",
        "    y_id_to_word = {value: key for key, value in y_tk.word_index.items()}\n",
        "    y_id_to_word[0] = '<PAD>'\n",
        "    x_id_to_word = {value: key for key, value in x_tk.word_index.items()}\n",
        "    x_id_to_word[0] = '<PAD>'\n",
        "    sentence = 'he saw a old yellow truck'\n",
        "    sentence = [x_tk.word_index[word] for word in sentence.split()]\n",
        "    sentence = pad_sequences([sentence], maxlen=x.shape[-1], padding='post')\n",
        "    sentences = np.array([sentence[0], x[0]])\n",
        "    predictionsfr = modelfr.predict(sentences, len(sentences))\n",
        "    predictionsit = modelit.predict(sentences, len(sentences))\n",
        "    predictionssp = modelsp.predict(sentences, len(sentences))\n",
        "    predictionsde = modelde.predict(sentences, len(sentences))\n",
        "    print('Sample 1:')\n",
        "    print(' '.join([y_id_to_word[np.argmax(x)] for x in predictionsfr[0]]))\n",
        "    print(' '.join([y_id_to_word[np.argmax(x)] for x in predictionssp[0]]))\n",
        "    print(' '.join([y_id_to_word[np.argmax(x)] for x in predictionsde[0]]))\n",
        "    print(' '.join([y_id_to_word[np.argmax(x)] for x in predictionsit[0]]))\n",
        "    print('Il a vu un vieux camion jaune')\n",
        "    # print('Sample 2:')\n",
        "    # print(' '.join([y_id_to_word[np.argmax(x)] for x in predictions[1]]))\n",
        "    # print(' '.join([x_id_to_word[np.max(x)] for x in y[0]]))\n",
        "    #print(predictions)\n",
        "\n",
        "final_predictions(preproc_english_sentences, preproc_french_sentences, preproc_spanish_sentences, preproc_german_sentences, preproc_italian_sentences, english_tokenizer, french_tokenizer, spanish_tokenizer, german_tokenizer, italian_tokenizer)"
      ]
    }
  ],
  "metadata": {
    "accelerator": "GPU",
    "colab": {
      "provenance": []
    },
    "gpuClass": "standard",
    "kernelspec": {
      "display_name": "Python 3",
      "name": "python3"
    },
    "language_info": {
      "name": "python"
    }
  },
  "nbformat": 4,
  "nbformat_minor": 0
}
